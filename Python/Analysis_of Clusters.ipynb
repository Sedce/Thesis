{
 "cells": [
  {
   "cell_type": "code",
   "execution_count": 1,
   "metadata": {
    "collapsed": true
   },
   "outputs": [],
   "source": [
    "import pandas as pd\n",
    "import csv"
   ]
  },
  {
   "cell_type": "code",
   "execution_count": 14,
   "metadata": {},
   "outputs": [
    {
     "data": {
      "text/plain": [
       "Counter({0: 56, 1: 55, 2: 13, 3: 3, 4: 12})"
      ]
     },
     "execution_count": 14,
     "metadata": {},
     "output_type": "execute_result"
    }
   ],
   "source": [
    "ch = pd.read_csv('cluster1-newdata.csv', sep=',', encoding = \"ISO-8859-1\")\n",
    "arr = ch.values\n",
    "indexes = []\n",
    "import operator\n",
    "for i in arr:\n",
    "    index, value = max(enumerate(i[8:13]), key=operator.itemgetter(1))\n",
    "    indexes.append(index)\n",
    "\n",
    "from collections import Counter\n",
    "Counter(indexes)"
   ]
  },
  {
   "cell_type": "code",
   "execution_count": 12,
   "metadata": {},
   "outputs": [
    {
     "data": {
      "text/plain": [
       "Counter({'EDM': 6,\n",
       "         'R&B': 14,\n",
       "         'country': 5,\n",
       "         'electronica': 3,\n",
       "         'emo': 1,\n",
       "         'folk': 5,\n",
       "         'hip hop': 10,\n",
       "         'hip pop': 2,\n",
       "         'indie pop': 3,\n",
       "         'neo mellow': 2,\n",
       "         'pop punk': 5,\n",
       "         'rap': 3,\n",
       "         'soft rock': 2})"
      ]
     },
     "execution_count": 12,
     "metadata": {},
     "output_type": "execute_result"
    }
   ],
   "source": [
    "ch2 = pd.read_csv('cluster2-newdata.csv', sep=',', encoding = \"ISO-8859-1\")\n",
    "all2_genre = ch2.Genre\n",
    "\n",
    "from collections import Counter\n",
    "Counter(all2_genre)"
   ]
  },
  {
   "cell_type": "code",
   "execution_count": 15,
   "metadata": {},
   "outputs": [
    {
     "name": "stdout",
     "output_type": "stream",
     "text": [
      "0.6236136690647482\n",
      "0.4958352517985613\n",
      "0.6546762589928058\n",
      "0.5324676258992806\n"
     ]
    }
   ],
   "source": [
    "import numpy as np\n",
    "energy =  ch.Energy\n",
    "danceability = ch.Danceability\n",
    "mode = ch.Mode\n",
    "valence = ch.Valence\n",
    "\n",
    "print(np.mean(energy))\n",
    "print(np.mean(danceability))\n",
    "print(np.mean(mode))\n",
    "print(np.mean(valence))"
   ]
  },
  {
   "cell_type": "code",
   "execution_count": 14,
   "metadata": {},
   "outputs": [
    {
     "data": {
      "text/plain": [
       "Counter({'alternative metal': 7,\n",
       "         'alternative rock': 14,\n",
       "         'avant-garde': 1,\n",
       "         'country': 1,\n",
       "         'country blues': 1,\n",
       "         'crossover thrash': 3,\n",
       "         'k-pop': 6,\n",
       "         'mashup': 4,\n",
       "         'metal': 1,\n",
       "         'pop': 8,\n",
       "         'punk rock': 2,\n",
       "         'rock': 13,\n",
       "         'ska': 2,\n",
       "         'soul': 3,\n",
       "         'underground rap': 1})"
      ]
     },
     "execution_count": 14,
     "metadata": {},
     "output_type": "execute_result"
    }
   ],
   "source": [
    "ch2 = pd.read_csv('all_cluster2.csv', sep=',', encoding = \"ISO-8859-1\")\n",
    "all2_genre = ch2.Genre\n",
    "all2_verse = ch2.verse_emotion\n",
    "all2_ch = ch2.chorus_emotion\n",
    "\n",
    "from collections import Counter\n",
    "Counter(all2_genre)"
   ]
  },
  {
   "cell_type": "code",
   "execution_count": 15,
   "metadata": {},
   "outputs": [
    {
     "data": {
      "text/plain": [
       "Counter({'anger': 7, 'disgust': 2, 'fear': 8, 'joy': 25, 'sadness': 25})"
      ]
     },
     "execution_count": 15,
     "metadata": {},
     "output_type": "execute_result"
    }
   ],
   "source": [
    "from collections import Counter\n",
    "Counter(all2_verse)"
   ]
  },
  {
   "cell_type": "code",
   "execution_count": 16,
   "metadata": {},
   "outputs": [
    {
     "data": {
      "text/plain": [
       "Counter({'anger': 5, 'disgust': 3, 'fear': 9, 'joy': 28, 'sadness': 22})"
      ]
     },
     "execution_count": 16,
     "metadata": {},
     "output_type": "execute_result"
    }
   ],
   "source": [
    "from collections import Counter\n",
    "Counter(all2_ch)"
   ]
  },
  {
   "cell_type": "code",
   "execution_count": 18,
   "metadata": {},
   "outputs": [
    {
     "data": {
      "text/plain": [
       "Counter({'alternative': 2,\n",
       "         'alternative metal': 9,\n",
       "         'alternative rock': 24,\n",
       "         'ballad': 1,\n",
       "         'blues': 1,\n",
       "         'country': 4,\n",
       "         'crossover thrash': 13,\n",
       "         'folk': 2,\n",
       "         'k-pop': 4,\n",
       "         'mashup': 6,\n",
       "         'metal': 2,\n",
       "         'pop': 4,\n",
       "         'rock': 18,\n",
       "         'rock steady': 1,\n",
       "         'ska': 3,\n",
       "         'soul': 3})"
      ]
     },
     "execution_count": 18,
     "metadata": {},
     "output_type": "execute_result"
    }
   ],
   "source": [
    "ch3 = pd.read_csv('all_cluster3.csv', sep=',', encoding = \"ISO-8859-1\")\n",
    "all3_genre = ch3.Genre\n",
    "all3_verse = ch3.verse_emotion\n",
    "all3_ch = ch3.chorus_emotion\n",
    "\n",
    "from collections import Counter\n",
    "Counter(all3_genre)\n"
   ]
  },
  {
   "cell_type": "code",
   "execution_count": 7,
   "metadata": {},
   "outputs": [
    {
     "data": {
      "text/plain": [
       "Counter({'anger': 11, 'disgust': 4, 'fear': 4, 'joy': 30, 'sadness': 48})"
      ]
     },
     "execution_count": 7,
     "metadata": {},
     "output_type": "execute_result"
    }
   ],
   "source": [
    "ch3 = pd.read_csv('all_cluster3.csv', sep=',', encoding = \"ISO-8859-1\")\n",
    "all_cluster3= ch3.verse_emotion\n",
    "\n",
    "from collections import Counter\n",
    "Counter(all_cluster3)"
   ]
  },
  {
   "cell_type": "code",
   "execution_count": 19,
   "metadata": {},
   "outputs": [
    {
     "data": {
      "text/plain": [
       "Counter({'anger': 11, 'disgust': 4, 'fear': 4, 'joy': 30, 'sadness': 48})"
      ]
     },
     "execution_count": 19,
     "metadata": {},
     "output_type": "execute_result"
    }
   ],
   "source": [
    "from collections import Counter\n",
    "Counter(all3_verse)"
   ]
  },
  {
   "cell_type": "code",
   "execution_count": 20,
   "metadata": {},
   "outputs": [
    {
     "data": {
      "text/plain": [
       "Counter({'anger': 9, 'disgust': 5, 'fear': 8, 'joy': 37, 'sadness': 38})"
      ]
     },
     "execution_count": 20,
     "metadata": {},
     "output_type": "execute_result"
    }
   ],
   "source": [
    "from collections import Counter\n",
    "Counter(all3_ch)"
   ]
  },
  {
   "cell_type": "code",
   "execution_count": null,
   "metadata": {
    "collapsed": true
   },
   "outputs": [],
   "source": []
  },
  {
   "cell_type": "code",
   "execution_count": 4,
   "metadata": {},
   "outputs": [
    {
     "data": {
      "text/plain": [
       "Counter({'alternative': 2,\n",
       "         'country': 7,\n",
       "         'folk': 4,\n",
       "         'punk rock': 9,\n",
       "         'rock steady': 1,\n",
       "         'ska': 4,\n",
       "         'underground rap': 2})"
      ]
     },
     "execution_count": 4,
     "metadata": {},
     "output_type": "execute_result"
    }
   ],
   "source": [
    "ch = pd.read_csv('cluster1.csv', sep=',', encoding = \"ISO-8859-1\")\n",
    "all1_genre = ch.Genre\n",
    "all1_verse = ch.verse_emotion\n",
    "all1_ch = ch.chorus_emotion\n",
    "\n",
    "from collections import Counter\n",
    "Counter(all1_genre)"
   ]
  },
  {
   "cell_type": "code",
   "execution_count": 5,
   "metadata": {},
   "outputs": [
    {
     "data": {
      "text/plain": [
       "Counter({'anger': 6, 'fear': 4, 'joy': 8, 'sadness': 11})"
      ]
     },
     "execution_count": 5,
     "metadata": {},
     "output_type": "execute_result"
    }
   ],
   "source": [
    "from collections import Counter\n",
    "Counter(all1_verse)"
   ]
  },
  {
   "cell_type": "code",
   "execution_count": 6,
   "metadata": {},
   "outputs": [
    {
     "data": {
      "text/plain": [
       "Counter({'anger': 8, 'disgust': 1, 'fear': 1, 'joy': 12, 'sadness': 7})"
      ]
     },
     "execution_count": 6,
     "metadata": {},
     "output_type": "execute_result"
    }
   ],
   "source": [
    "from collections import Counter\n",
    "Counter(all1_ch)"
   ]
  },
  {
   "cell_type": "code",
   "execution_count": 7,
   "metadata": {},
   "outputs": [
    {
     "data": {
      "text/plain": [
       "Counter({'alternative metal': 22,\n",
       "         'alternative rock': 53,\n",
       "         'country blues': 1,\n",
       "         'crossover thrash': 17,\n",
       "         'k-pop': 10,\n",
       "         'metal': 3,\n",
       "         'ska': 1,\n",
       "         'soul': 7})"
      ]
     },
     "execution_count": 7,
     "metadata": {},
     "output_type": "execute_result"
    }
   ],
   "source": [
    "ch2 = pd.read_csv('cluster2.csv', sep=',', encoding = \"ISO-8859-1\")\n",
    "all2_genre = ch2.Genre\n",
    "all2_verse = ch2.verse_emotion\n",
    "all2_ch = ch2.chorus_emotion\n",
    "\n",
    "from collections import Counter\n",
    "Counter(all2_genre)"
   ]
  },
  {
   "cell_type": "code",
   "execution_count": 8,
   "metadata": {},
   "outputs": [
    {
     "data": {
      "text/plain": [
       "Counter({'anger': 12, 'disgust': 6, 'fear': 7, 'joy': 33, 'sadness': 56})"
      ]
     },
     "execution_count": 8,
     "metadata": {},
     "output_type": "execute_result"
    }
   ],
   "source": [
    "from collections import Counter\n",
    "Counter(all2_verse)"
   ]
  },
  {
   "cell_type": "code",
   "execution_count": 9,
   "metadata": {},
   "outputs": [
    {
     "data": {
      "text/plain": [
       "Counter({'anger': 12, 'disgust': 5, 'fear': 10, 'joy': 42, 'sadness': 45})"
      ]
     },
     "execution_count": 9,
     "metadata": {},
     "output_type": "execute_result"
    }
   ],
   "source": [
    "from collections import Counter\n",
    "Counter(all2_ch)"
   ]
  },
  {
   "cell_type": "code",
   "execution_count": 10,
   "metadata": {},
   "outputs": [
    {
     "data": {
      "text/plain": [
       "Counter({'avant-garde': 1, 'ballad': 2, 'blues': 1, 'pop': 17, 'rock': 46})"
      ]
     },
     "execution_count": 10,
     "metadata": {},
     "output_type": "execute_result"
    }
   ],
   "source": [
    "ch3 = pd.read_csv('cluster3.csv', sep=',', encoding = \"ISO-8859-1\")\n",
    "all3_genre = ch3.Genre\n",
    "all3_verse = ch3.verse_emotion\n",
    "all3_ch = ch3.chorus_emotion\n",
    "\n",
    "from collections import Counter\n",
    "Counter(all3_genre)\n"
   ]
  },
  {
   "cell_type": "code",
   "execution_count": 11,
   "metadata": {},
   "outputs": [
    {
     "data": {
      "text/plain": [
       "Counter({'anger': 5, 'fear': 5, 'joy': 32, 'sadness': 25})"
      ]
     },
     "execution_count": 11,
     "metadata": {},
     "output_type": "execute_result"
    }
   ],
   "source": [
    "from collections import Counter\n",
    "Counter(all3_verse)"
   ]
  },
  {
   "cell_type": "code",
   "execution_count": 12,
   "metadata": {},
   "outputs": [
    {
     "data": {
      "text/plain": [
       "Counter({'anger': 2, 'disgust': 4, 'fear': 9, 'joy': 31, 'sadness': 21})"
      ]
     },
     "execution_count": 12,
     "metadata": {},
     "output_type": "execute_result"
    }
   ],
   "source": [
    "from collections import Counter\n",
    "Counter(all3_ch)"
   ]
  }
 ],
 "metadata": {
  "kernelspec": {
   "display_name": "Python 3",
   "language": "python",
   "name": "python3"
  },
  "language_info": {
   "codemirror_mode": {
    "name": "ipython",
    "version": 3
   },
   "file_extension": ".py",
   "mimetype": "text/x-python",
   "name": "python",
   "nbconvert_exporter": "python",
   "pygments_lexer": "ipython3",
   "version": "3.6.2"
  }
 },
 "nbformat": 4,
 "nbformat_minor": 2
}
