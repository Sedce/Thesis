{
 "cells": [
  {
   "cell_type": "code",
   "execution_count": 10,
   "metadata": {},
   "outputs": [
    {
     "data": {
      "text/plain": [
       "Counter({'alternative metal': 6,\n",
       "         'alternative rock': 15,\n",
       "         'ballad': 1,\n",
       "         'country': 2,\n",
       "         'crossover thrash': 1,\n",
       "         'folk': 2,\n",
       "         'mashup': 3,\n",
       "         'pop': 5,\n",
       "         'punk rock': 7,\n",
       "         'rock': 2,\n",
       "         'soul': 1,\n",
       "         'underground rap': 1})"
      ]
     },
     "execution_count": 10,
     "metadata": {},
     "output_type": "execute_result"
    }
   ],
   "source": [
    "import pandas as pd\n",
    "import csv\n",
    "\n",
    "ch = pd.read_csv('all_cluster1.csv', sep=',', encoding = \"ISO-8859-1\")\n",
    "all1_genre = ch.Genre\n",
    "all1_verse = ch.verse_emotion\n",
    "all1_ch = ch.chorus_emotion\n",
    "\n",
    "from collections import Counter\n",
    "Counter(all1_genre)\n"
   ]
  },
  {
   "cell_type": "code",
   "execution_count": 11,
   "metadata": {},
   "outputs": [
    {
     "data": {
      "text/plain": [
       "Counter({'anger': 5, 'fear': 4, 'joy': 18, 'sadness': 19})"
      ]
     },
     "execution_count": 11,
     "metadata": {},
     "output_type": "execute_result"
    }
   ],
   "source": [
    "from collections import Counter\n",
    "Counter(all1_verse)"
   ]
  },
  {
   "cell_type": "code",
   "execution_count": 12,
   "metadata": {},
   "outputs": [
    {
     "data": {
      "text/plain": [
       "Counter({'anger': 8, 'disgust': 2, 'fear': 3, 'joy': 20, 'sadness': 13})"
      ]
     },
     "execution_count": 12,
     "metadata": {},
     "output_type": "execute_result"
    }
   ],
   "source": [
    "from collections import Counter\n",
    "Counter(all1_ch)"
   ]
  },
  {
   "cell_type": "code",
   "execution_count": 14,
   "metadata": {},
   "outputs": [
    {
     "data": {
      "text/plain": [
       "Counter({'alternative metal': 7,\n",
       "         'alternative rock': 14,\n",
       "         'avant-garde': 1,\n",
       "         'country': 1,\n",
       "         'country blues': 1,\n",
       "         'crossover thrash': 3,\n",
       "         'k-pop': 6,\n",
       "         'mashup': 4,\n",
       "         'metal': 1,\n",
       "         'pop': 8,\n",
       "         'punk rock': 2,\n",
       "         'rock': 13,\n",
       "         'ska': 2,\n",
       "         'soul': 3,\n",
       "         'underground rap': 1})"
      ]
     },
     "execution_count": 14,
     "metadata": {},
     "output_type": "execute_result"
    }
   ],
   "source": [
    "ch2 = pd.read_csv('all_cluster2.csv', sep=',', encoding = \"ISO-8859-1\")\n",
    "all2_genre = ch2.Genre\n",
    "all2_verse = ch2.verse_emotion\n",
    "all2_ch = ch2.chorus_emotion\n",
    "\n",
    "from collections import Counter\n",
    "Counter(all2_genre)"
   ]
  },
  {
   "cell_type": "code",
   "execution_count": 15,
   "metadata": {},
   "outputs": [
    {
     "data": {
      "text/plain": [
       "Counter({'anger': 7, 'disgust': 2, 'fear': 8, 'joy': 25, 'sadness': 25})"
      ]
     },
     "execution_count": 15,
     "metadata": {},
     "output_type": "execute_result"
    }
   ],
   "source": [
    "from collections import Counter\n",
    "Counter(all2_verse)"
   ]
  },
  {
   "cell_type": "code",
   "execution_count": 16,
   "metadata": {},
   "outputs": [
    {
     "data": {
      "text/plain": [
       "Counter({'anger': 5, 'disgust': 3, 'fear': 9, 'joy': 28, 'sadness': 22})"
      ]
     },
     "execution_count": 16,
     "metadata": {},
     "output_type": "execute_result"
    }
   ],
   "source": [
    "from collections import Counter\n",
    "Counter(all2_ch)"
   ]
  },
  {
   "cell_type": "code",
   "execution_count": 18,
   "metadata": {},
   "outputs": [
    {
     "data": {
      "text/plain": [
       "Counter({'alternative': 2,\n",
       "         'alternative metal': 9,\n",
       "         'alternative rock': 24,\n",
       "         'ballad': 1,\n",
       "         'blues': 1,\n",
       "         'country': 4,\n",
       "         'crossover thrash': 13,\n",
       "         'folk': 2,\n",
       "         'k-pop': 4,\n",
       "         'mashup': 6,\n",
       "         'metal': 2,\n",
       "         'pop': 4,\n",
       "         'rock': 18,\n",
       "         'rock steady': 1,\n",
       "         'ska': 3,\n",
       "         'soul': 3})"
      ]
     },
     "execution_count": 18,
     "metadata": {},
     "output_type": "execute_result"
    }
   ],
   "source": [
    "ch3 = pd.read_csv('all_cluster3.csv', sep=',', encoding = \"ISO-8859-1\")\n",
    "all3_genre = ch3.Genre\n",
    "all3_verse = ch3.verse_emotion\n",
    "all3_ch = ch3.chorus_emotion\n",
    "\n",
    "from collections import Counter\n",
    "Counter(all3_genre)\n"
   ]
  },
  {
   "cell_type": "code",
   "execution_count": 7,
   "metadata": {},
   "outputs": [
    {
     "data": {
      "text/plain": [
       "Counter({'anger': 11, 'disgust': 4, 'fear': 4, 'joy': 30, 'sadness': 48})"
      ]
     },
     "execution_count": 7,
     "metadata": {},
     "output_type": "execute_result"
    }
   ],
   "source": [
    "ch3 = pd.read_csv('all_cluster3.csv', sep=',', encoding = \"ISO-8859-1\")\n",
    "all_cluster3= ch3.verse_emotion\n",
    "\n",
    "from collections import Counter\n",
    "Counter(all_cluster3)"
   ]
  },
  {
   "cell_type": "code",
   "execution_count": 19,
   "metadata": {},
   "outputs": [
    {
     "data": {
      "text/plain": [
       "Counter({'anger': 11, 'disgust': 4, 'fear': 4, 'joy': 30, 'sadness': 48})"
      ]
     },
     "execution_count": 19,
     "metadata": {},
     "output_type": "execute_result"
    }
   ],
   "source": [
    "from collections import Counter\n",
    "Counter(all3_verse)"
   ]
  },
  {
   "cell_type": "code",
   "execution_count": 20,
   "metadata": {},
   "outputs": [
    {
     "data": {
      "text/plain": [
       "Counter({'anger': 9, 'disgust': 5, 'fear': 8, 'joy': 37, 'sadness': 38})"
      ]
     },
     "execution_count": 20,
     "metadata": {},
     "output_type": "execute_result"
    }
   ],
   "source": [
    "from collections import Counter\n",
    "Counter(all3_ch)"
   ]
  },
  {
   "cell_type": "code",
   "execution_count": 21,
   "metadata": {},
   "outputs": [
    {
     "data": {
      "text/plain": [
       "Counter({'alternative metal': 7,\n",
       "         'alternative rock': 16,\n",
       "         'avant-garde': 1,\n",
       "         'country': 1,\n",
       "         'country blues': 1,\n",
       "         'crossover thrash': 5,\n",
       "         'k-pop': 6,\n",
       "         'mashup': 5,\n",
       "         'metal': 1,\n",
       "         'pop': 8,\n",
       "         'punk rock': 2,\n",
       "         'rock': 15,\n",
       "         'ska': 3,\n",
       "         'soul': 3,\n",
       "         'underground rap': 1})"
      ]
     },
     "execution_count": 21,
     "metadata": {},
     "output_type": "execute_result"
    }
   ],
   "source": [
    "ch = pd.read_csv('cluster1.csv', sep=',', encoding = \"ISO-8859-1\")\n",
    "all1_genre = ch.Genre\n",
    "all1_verse = ch.verse_emotion\n",
    "all1_ch = ch.chorus_emotion\n",
    "\n",
    "from collections import Counter\n",
    "Counter(all1_genre)"
   ]
  },
  {
   "cell_type": "code",
   "execution_count": 22,
   "metadata": {},
   "outputs": [
    {
     "data": {
      "text/plain": [
       "Counter({'anger': 10, 'disgust': 2, 'fear': 8, 'joy': 27, 'sadness': 28})"
      ]
     },
     "execution_count": 22,
     "metadata": {},
     "output_type": "execute_result"
    }
   ],
   "source": [
    "from collections import Counter\n",
    "Counter(all1_verse)"
   ]
  },
  {
   "cell_type": "code",
   "execution_count": 23,
   "metadata": {},
   "outputs": [
    {
     "data": {
      "text/plain": [
       "Counter({'anger': 6, 'disgust': 3, 'fear': 9, 'joy': 31, 'sadness': 26})"
      ]
     },
     "execution_count": 23,
     "metadata": {},
     "output_type": "execute_result"
    }
   ],
   "source": [
    "from collections import Counter\n",
    "Counter(all1_ch)"
   ]
  },
  {
   "cell_type": "code",
   "execution_count": 24,
   "metadata": {},
   "outputs": [
    {
     "data": {
      "text/plain": [
       "Counter({'alternative': 2,\n",
       "         'alternative metal': 11,\n",
       "         'alternative rock': 23,\n",
       "         'ballad': 1,\n",
       "         'blues': 1,\n",
       "         'country': 4,\n",
       "         'crossover thrash': 12,\n",
       "         'folk': 2,\n",
       "         'k-pop': 4,\n",
       "         'mashup': 7,\n",
       "         'metal': 2,\n",
       "         'pop': 4,\n",
       "         'rock': 16,\n",
       "         'rock steady': 1,\n",
       "         'ska': 2,\n",
       "         'soul': 3})"
      ]
     },
     "execution_count": 24,
     "metadata": {},
     "output_type": "execute_result"
    }
   ],
   "source": [
    "ch2 = pd.read_csv('cluster2.csv', sep=',', encoding = \"ISO-8859-1\")\n",
    "all2_genre = ch2.Genre\n",
    "all2_verse = ch2.verse_emotion\n",
    "all2_ch = ch2.chorus_emotion\n",
    "\n",
    "from collections import Counter\n",
    "Counter(all2_genre)"
   ]
  },
  {
   "cell_type": "code",
   "execution_count": 25,
   "metadata": {},
   "outputs": [
    {
     "data": {
      "text/plain": [
       "Counter({'anger': 9, 'disgust': 4, 'fear': 6, 'joy': 29, 'sadness': 47})"
      ]
     },
     "execution_count": 25,
     "metadata": {},
     "output_type": "execute_result"
    }
   ],
   "source": [
    "from collections import Counter\n",
    "Counter(all2_verse)"
   ]
  },
  {
   "cell_type": "code",
   "execution_count": 26,
   "metadata": {},
   "outputs": [
    {
     "data": {
      "text/plain": [
       "Counter({'anger': 8, 'disgust': 5, 'fear': 10, 'joy': 36, 'sadness': 36})"
      ]
     },
     "execution_count": 26,
     "metadata": {},
     "output_type": "execute_result"
    }
   ],
   "source": [
    "from collections import Counter\n",
    "Counter(all2_ch)"
   ]
  },
  {
   "cell_type": "code",
   "execution_count": 28,
   "metadata": {},
   "outputs": [
    {
     "data": {
      "text/plain": [
       "Counter({'alternative metal': 4,\n",
       "         'alternative rock': 14,\n",
       "         'ballad': 1,\n",
       "         'country': 2,\n",
       "         'folk': 2,\n",
       "         'mashup': 1,\n",
       "         'pop': 5,\n",
       "         'punk rock': 7,\n",
       "         'rock': 2,\n",
       "         'soul': 1,\n",
       "         'underground rap': 1})"
      ]
     },
     "execution_count": 28,
     "metadata": {},
     "output_type": "execute_result"
    }
   ],
   "source": [
    "ch3 = pd.read_csv('cluster3.csv', sep=',', encoding = \"ISO-8859-1\")\n",
    "all3_genre = ch3.Genre\n",
    "all3_verse = ch3.verse_emotion\n",
    "all3_ch = ch3.chorus_emotion\n",
    "\n",
    "from collections import Counter\n",
    "Counter(all3_genre)\n"
   ]
  },
  {
   "cell_type": "code",
   "execution_count": 29,
   "metadata": {},
   "outputs": [
    {
     "data": {
      "text/plain": [
       "Counter({'anger': 4, 'fear': 2, 'joy': 17, 'sadness': 17})"
      ]
     },
     "execution_count": 29,
     "metadata": {},
     "output_type": "execute_result"
    }
   ],
   "source": [
    "from collections import Counter\n",
    "Counter(all3_verse)"
   ]
  },
  {
   "cell_type": "code",
   "execution_count": 30,
   "metadata": {},
   "outputs": [
    {
     "data": {
      "text/plain": [
       "Counter({'anger': 8, 'disgust': 2, 'fear': 1, 'joy': 18, 'sadness': 11})"
      ]
     },
     "execution_count": 30,
     "metadata": {},
     "output_type": "execute_result"
    }
   ],
   "source": [
    "from collections import Counter\n",
    "Counter(all3_ch)"
   ]
  }
 ],
 "metadata": {
  "kernelspec": {
   "display_name": "Python 3",
   "language": "python",
   "name": "python3"
  },
  "language_info": {
   "codemirror_mode": {
    "name": "ipython",
    "version": 3
   },
   "file_extension": ".py",
   "mimetype": "text/x-python",
   "name": "python",
   "nbconvert_exporter": "python",
   "pygments_lexer": "ipython3",
   "version": "3.6.2"
  }
 },
 "nbformat": 4,
 "nbformat_minor": 2
}
