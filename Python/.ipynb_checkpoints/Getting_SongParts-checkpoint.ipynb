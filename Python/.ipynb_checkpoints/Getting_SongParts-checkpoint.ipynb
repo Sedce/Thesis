{
 "cells": [
  {
   "cell_type": "code",
   "execution_count": 1,
   "metadata": {},
   "outputs": [],
   "source": [
    "import pandas as fluff\n",
    "import csv\n",
    "\n",
    "song_parts = fluff.read_csv('songs_parts.csv',sep=',', encoding = \"ISO-8859-1\")\n",
    "\n",
    "with open('song_chorus.csv', 'w') as csvfile:\n",
    "    sentiment_writer = csv.writer(csvfile, delimiter=',', quotechar='\"', quoting=csv.QUOTE_MINIMAL)\n",
    "    sentiment_writer.writerow([\"id\", \"text\"])\n",
    "    for i in range(len(song_parts.index)):\n",
    "        try:\n",
    "            an_chorus = song_parts.loc[i, 'chorus']\n",
    "            song_title = song_parts.loc[i, 'Song Title']\n",
    "            sentiment_writer.writerow([song_title,an_chorus])\n",
    "        except Exception as e:\n",
    "            print(e)\n",
    "            \n",
    "with open('song_verse.csv', 'w') as csvfile:\n",
    "    sentiment_writer = csv.writer(csvfile, delimiter=',', quotechar='\"', quoting=csv.QUOTE_MINIMAL)\n",
    "    sentiment_writer.writerow([\"id\", \"text\"])\n",
    "    for i in range(len(song_parts.index)):\n",
    "        try:\n",
    "            verse = song_parts.loc[i, 'verse']\n",
    "            song_title = song_parts.loc[i, 'Song Title']\n",
    "            sentiment_writer.writerow([song_title,verse])\n",
    "        except Exception as e:\n",
    "            print(e)\n",
    "\n"
   ]
  },
  {
   "cell_type": "code",
   "execution_count": 4,
   "metadata": {},
   "outputs": [],
   "source": [
    "import pandas as pd\n",
    "import csv\n",
    "song_verse = pd.read_csv('song_verse.csv',error_bad_lines=False)\n",
    "song_chorus = pd.read_csv('song_chorus.csv',error_bad_lines=False)\n",
    "audio_features = pd.read_csv('audio_features.csv',error_bad_lines=False)\n",
    "merged = pd.merge(audio_features,song_verse, how='left', on='Song Title')\n",
    "merged = pd.merge(merged,song_chorus, how='left', on='Song Title')\n",
    "merged.to_csv('merged.csv', index=False)\n"
   ]
  }
 ],
 "metadata": {
  "kernelspec": {
   "display_name": "Python 3",
   "language": "python",
   "name": "python3"
  },
  "language_info": {
   "codemirror_mode": {
    "name": "ipython",
    "version": 3
   },
   "file_extension": ".py",
   "mimetype": "text/x-python",
   "name": "python",
   "nbconvert_exporter": "python",
   "pygments_lexer": "ipython3",
   "version": "3.6.4"
  }
 },
 "nbformat": 4,
 "nbformat_minor": 2
}
