{
 "cells": [
  {
   "cell_type": "code",
   "execution_count": 1,
   "metadata": {},
   "outputs": [
    {
     "data": {
      "text/plain": [
       "Counter({0: 92, 1: 73, 2: 16, 3: 6, 4: 23})"
      ]
     },
     "execution_count": 1,
     "metadata": {},
     "output_type": "execute_result"
    }
   ],
   "source": [
    "#verse \n",
    "import pandas as pd\n",
    "ch = pd.read_csv('all_features.csv', sep=',', encoding = \"ISO-8859-1\")\n",
    "arr = ch.values\n",
    "indexes = []\n",
    "import operator\n",
    "for i in arr:\n",
    "    index, value = max(enumerate(i[9:14]), key=operator.itemgetter(1))\n",
    "    indexes.append(index)\n",
    "\n",
    "from collections import Counter\n",
    "Counter(indexes)"
   ]
  },
  {
   "cell_type": "code",
   "execution_count": 2,
   "metadata": {},
   "outputs": [
    {
     "data": {
      "text/plain": [
       "Counter({0: 73, 1: 85, 2: 20, 3: 10, 4: 22})"
      ]
     },
     "execution_count": 2,
     "metadata": {},
     "output_type": "execute_result"
    }
   ],
   "source": [
    "#chorus\n",
    "import pandas as pd\n",
    "ch = pd.read_csv('all_features.csv', sep=',', encoding = \"ISO-8859-1\")\n",
    "arr = ch.values\n",
    "indexes1 = []\n",
    "import operator\n",
    "for i in arr:\n",
    "    index, value = max(enumerate(i[14:19]), key=operator.itemgetter(1))\n",
    "    indexes1.append(index)\n",
    "\n",
    "from collections import Counter\n",
    "Counter(indexes1)"
   ]
  },
  {
   "cell_type": "code",
   "execution_count": 12,
   "metadata": {},
   "outputs": [
    {
     "name": "stdout",
     "output_type": "stream",
     "text": [
      "{4: 1, 5: 2, 3: 46, 6: 1, 7: 1, 8: 22, 1: 17, 9: 7, 10: 53, 11: 17, 12: 3, 13: 10, 14: 5, 15: 1, 16: 2, 17: 4, 18: 9, 20: 7, 21: 2}\n"
     ]
    }
   ],
   "source": [
    "import pandas as pd\n",
    "ch = pd.read_csv('all_features.csv', sep=',', encoding = \"ISO-8859-1\")\n",
    "arr = ch.Genre\n",
    "from collections import Counter\n",
    "gen = dict(Counter(arr)) \n",
    "print(gen)"
   ]
  },
  {
   "cell_type": "code",
   "execution_count": 4,
   "metadata": {},
   "outputs": [
    {
     "name": "stdout",
     "output_type": "stream",
     "text": [
      "0.6527538095238097\n",
      "0.4822238095238098\n",
      "0.680952380952381\n",
      "0.4853995238095239\n"
     ]
    }
   ],
   "source": [
    "import pandas as pd\n",
    "import numpy as np\n",
    "ch = pd.read_csv('all_features.csv', sep=',', encoding = \"ISO-8859-1\")\n",
    "energy =  ch.Energy\n",
    "danceability = ch.Danceability\n",
    "mode = ch.Mode\n",
    "valence = ch.Valence\n",
    "\n",
    "print(np.mean(energy))\n",
    "print(np.mean(danceability))\n",
    "print(np.mean(mode))\n",
    "print(np.mean(valence))"
   ]
  },
  {
   "cell_type": "code",
   "execution_count": null,
   "metadata": {
    "collapsed": true
   },
   "outputs": [],
   "source": []
  }
 ],
 "metadata": {
  "kernelspec": {
   "display_name": "Python 3",
   "language": "python",
   "name": "python3"
  },
  "language_info": {
   "codemirror_mode": {
    "name": "ipython",
    "version": 3
   },
   "file_extension": ".py",
   "mimetype": "text/x-python",
   "name": "python",
   "nbconvert_exporter": "python",
   "pygments_lexer": "ipython3",
   "version": "3.6.2"
  }
 },
 "nbformat": 4,
 "nbformat_minor": 2
}
