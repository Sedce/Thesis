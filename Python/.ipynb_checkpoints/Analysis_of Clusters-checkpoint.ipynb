{
 "cells": [
  {
   "cell_type": "code",
   "execution_count": 8,
   "metadata": {},
   "outputs": [
    {
     "ename": "NameError",
     "evalue": "name 'all1_genre1' is not defined",
     "output_type": "error",
     "traceback": [
      "\u001b[1;31m---------------------------------------------------------------------------\u001b[0m",
      "\u001b[1;31mNameError\u001b[0m                                 Traceback (most recent call last)",
      "\u001b[1;32m<ipython-input-8-604b15f1570d>\u001b[0m in \u001b[0;36m<module>\u001b[1;34m()\u001b[0m\n\u001b[0;32m      8\u001b[0m \u001b[1;33m\u001b[0m\u001b[0m\n\u001b[0;32m      9\u001b[0m \u001b[1;32mfrom\u001b[0m \u001b[0mcollections\u001b[0m \u001b[1;32mimport\u001b[0m \u001b[0mCounter\u001b[0m\u001b[1;33m\u001b[0m\u001b[0m\n\u001b[1;32m---> 10\u001b[1;33m \u001b[0mCounter\u001b[0m\u001b[1;33m(\u001b[0m\u001b[0mall1_genre1\u001b[0m\u001b[1;33m)\u001b[0m\u001b[1;33m\u001b[0m\u001b[0m\n\u001b[0m\u001b[0;32m     11\u001b[0m \u001b[1;33m\u001b[0m\u001b[0m\n\u001b[0;32m     12\u001b[0m \u001b[1;32mfrom\u001b[0m \u001b[0mcollections\u001b[0m \u001b[1;32mimport\u001b[0m \u001b[0mCounter\u001b[0m\u001b[1;33m\u001b[0m\u001b[0m\n",
      "\u001b[1;31mNameError\u001b[0m: name 'all1_genre1' is not defined"
     ]
    }
   ],
   "source": [
    "import pandas as pd\n",
    "import csv\n",
    "\n",
    "ch = pd.read_csv('all_cluster1.csv', sep=',', encoding = \"ISO-8859-1\")\n",
    "all1_genre = ch.Genre\n",
    "all1_verse = ch.verse_emotion\n",
    "all1_ch = ch.chorus_emotion\n",
    "\n",
    "from collections import Counter\n",
    "Counter(all1_genre)\n",
    "\n",
    "from collections import Counter\n",
    "Counter(all1_verse)\n",
    "\n",
    "from collections import Counter\n",
    "Counter(all1_ch)\n",
    "\n"
   ]
  },
  {
   "cell_type": "code",
   "execution_count": 4,
   "metadata": {},
   "outputs": [
    {
     "data": {
      "text/plain": [
       "Counter({'alternative metal': 7,\n",
       "         'alternative rock': 14,\n",
       "         'avant-garde': 1,\n",
       "         'country': 1,\n",
       "         'country blues': 1,\n",
       "         'crossover thrash': 3,\n",
       "         'k-pop': 6,\n",
       "         'mashup': 4,\n",
       "         'metal': 1,\n",
       "         'pop': 8,\n",
       "         'punk rock': 2,\n",
       "         'rock': 13,\n",
       "         'ska': 2,\n",
       "         'soul': 3,\n",
       "         'underground rap': 1})"
      ]
     },
     "execution_count": 4,
     "metadata": {},
     "output_type": "execute_result"
    }
   ],
   "source": [
    "ch2 = pd.read_csv('all_cluster2.csv', sep=',', encoding = \"ISO-8859-1\")\n",
    "all_cluster2= ch2.Genre\n",
    "\n",
    "from collections import Counter\n",
    "Counter(all_cluster2)"
   ]
  },
  {
   "cell_type": "code",
   "execution_count": 5,
   "metadata": {},
   "outputs": [
    {
     "data": {
      "text/plain": [
       "Counter({'alternative': 2,\n",
       "         'alternative metal': 9,\n",
       "         'alternative rock': 24,\n",
       "         'ballad': 1,\n",
       "         'blues': 1,\n",
       "         'country': 4,\n",
       "         'crossover thrash': 13,\n",
       "         'folk': 2,\n",
       "         'k-pop': 4,\n",
       "         'mashup': 6,\n",
       "         'metal': 2,\n",
       "         'pop': 4,\n",
       "         'rock': 18,\n",
       "         'rock steady': 1,\n",
       "         'ska': 3,\n",
       "         'soul': 3})"
      ]
     },
     "execution_count": 5,
     "metadata": {},
     "output_type": "execute_result"
    }
   ],
   "source": [
    "ch3 = pd.read_csv('all_cluster3.csv', sep=',', encoding = \"ISO-8859-1\")\n",
    "all_cluster3= ch3.Genre\n",
    "\n",
    "from collections import Counter\n",
    "Counter(all_cluster3)"
   ]
  },
  {
   "cell_type": "code",
   "execution_count": 7,
   "metadata": {},
   "outputs": [
    {
     "data": {
      "text/plain": [
       "Counter({'anger': 11, 'disgust': 4, 'fear': 4, 'joy': 30, 'sadness': 48})"
      ]
     },
     "execution_count": 7,
     "metadata": {},
     "output_type": "execute_result"
    }
   ],
   "source": [
    "ch3 = pd.read_csv('all_cluster3.csv', sep=',', encoding = \"ISO-8859-1\")\n",
    "all_cluster3= ch3.verse_emotion\n",
    "\n",
    "from collections import Counter\n",
    "Counter(all_cluster3)"
   ]
  }
 ],
 "metadata": {
  "kernelspec": {
   "display_name": "Python 3",
   "language": "python",
   "name": "python3"
  },
  "language_info": {
   "codemirror_mode": {
    "name": "ipython",
    "version": 3
   },
   "file_extension": ".py",
   "mimetype": "text/x-python",
   "name": "python",
   "nbconvert_exporter": "python",
   "pygments_lexer": "ipython3",
   "version": "3.6.2"
  }
 },
 "nbformat": 4,
 "nbformat_minor": 2
}
