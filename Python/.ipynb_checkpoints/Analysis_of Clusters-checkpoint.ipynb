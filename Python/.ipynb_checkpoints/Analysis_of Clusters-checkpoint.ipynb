{
 "cells": [
  {
   "cell_type": "code",
   "execution_count": 2,
   "metadata": {
    "collapsed": true
   },
   "outputs": [],
   "source": [
    "import pandas as pd\n",
    "import csv"
   ]
  },
  {
   "cell_type": "code",
   "execution_count": 3,
   "metadata": {},
   "outputs": [
    {
     "ename": "AttributeError",
     "evalue": "'DataFrame' object has no attribute 'verse_emotion'",
     "output_type": "error",
     "traceback": [
      "\u001b[1;31m---------------------------------------------------------------------------\u001b[0m",
      "\u001b[1;31mAttributeError\u001b[0m                            Traceback (most recent call last)",
      "\u001b[1;32m<ipython-input-3-37a90bd3cc67>\u001b[0m in \u001b[0;36m<module>\u001b[1;34m()\u001b[0m\n\u001b[0;32m      1\u001b[0m \u001b[0mch\u001b[0m \u001b[1;33m=\u001b[0m \u001b[0mpd\u001b[0m\u001b[1;33m.\u001b[0m\u001b[0mread_csv\u001b[0m\u001b[1;33m(\u001b[0m\u001b[1;34m'all_cluster1.csv'\u001b[0m\u001b[1;33m,\u001b[0m \u001b[0msep\u001b[0m\u001b[1;33m=\u001b[0m\u001b[1;34m','\u001b[0m\u001b[1;33m,\u001b[0m \u001b[0mencoding\u001b[0m \u001b[1;33m=\u001b[0m \u001b[1;34m\"ISO-8859-1\"\u001b[0m\u001b[1;33m)\u001b[0m\u001b[1;33m\u001b[0m\u001b[0m\n\u001b[0;32m      2\u001b[0m \u001b[0mall1_genre\u001b[0m \u001b[1;33m=\u001b[0m \u001b[0mch\u001b[0m\u001b[1;33m.\u001b[0m\u001b[0mGenre\u001b[0m\u001b[1;33m\u001b[0m\u001b[0m\n\u001b[1;32m----> 3\u001b[1;33m \u001b[0mall1_verse\u001b[0m \u001b[1;33m=\u001b[0m \u001b[0mch\u001b[0m\u001b[1;33m.\u001b[0m\u001b[0mverse_emotion\u001b[0m\u001b[1;33m\u001b[0m\u001b[0m\n\u001b[0m\u001b[0;32m      4\u001b[0m \u001b[0mall1_ch\u001b[0m \u001b[1;33m=\u001b[0m \u001b[0mch\u001b[0m\u001b[1;33m.\u001b[0m\u001b[0mchorus_emotion\u001b[0m\u001b[1;33m\u001b[0m\u001b[0m\n\u001b[0;32m      5\u001b[0m \u001b[1;33m\u001b[0m\u001b[0m\n",
      "\u001b[1;32m~\\Anaconda3\\lib\\site-packages\\pandas\\core\\generic.py\u001b[0m in \u001b[0;36m__getattr__\u001b[1;34m(self, name)\u001b[0m\n\u001b[0;32m   3612\u001b[0m             \u001b[1;32mif\u001b[0m \u001b[0mname\u001b[0m \u001b[1;32min\u001b[0m \u001b[0mself\u001b[0m\u001b[1;33m.\u001b[0m\u001b[0m_info_axis\u001b[0m\u001b[1;33m:\u001b[0m\u001b[1;33m\u001b[0m\u001b[0m\n\u001b[0;32m   3613\u001b[0m                 \u001b[1;32mreturn\u001b[0m \u001b[0mself\u001b[0m\u001b[1;33m[\u001b[0m\u001b[0mname\u001b[0m\u001b[1;33m]\u001b[0m\u001b[1;33m\u001b[0m\u001b[0m\n\u001b[1;32m-> 3614\u001b[1;33m             \u001b[1;32mreturn\u001b[0m \u001b[0mobject\u001b[0m\u001b[1;33m.\u001b[0m\u001b[0m__getattribute__\u001b[0m\u001b[1;33m(\u001b[0m\u001b[0mself\u001b[0m\u001b[1;33m,\u001b[0m \u001b[0mname\u001b[0m\u001b[1;33m)\u001b[0m\u001b[1;33m\u001b[0m\u001b[0m\n\u001b[0m\u001b[0;32m   3615\u001b[0m \u001b[1;33m\u001b[0m\u001b[0m\n\u001b[0;32m   3616\u001b[0m     \u001b[1;32mdef\u001b[0m \u001b[0m__setattr__\u001b[0m\u001b[1;33m(\u001b[0m\u001b[0mself\u001b[0m\u001b[1;33m,\u001b[0m \u001b[0mname\u001b[0m\u001b[1;33m,\u001b[0m \u001b[0mvalue\u001b[0m\u001b[1;33m)\u001b[0m\u001b[1;33m:\u001b[0m\u001b[1;33m\u001b[0m\u001b[0m\n",
      "\u001b[1;31mAttributeError\u001b[0m: 'DataFrame' object has no attribute 'verse_emotion'"
     ]
    }
   ],
   "source": [
    "ch = pd.read_csv('all_cluster1.csv', sep=',', encoding = \"ISO-8859-1\")\n",
    "arr = ch.values\n",
    "indexes = []\n",
    "import operator\n",
    "for i in arr:\n",
    "    index, value = max(enumerate(i[9:14]), key=operator.itemgetter(1))\n",
    "    indexes.append(index)\n",
    "\n",
    "from collections import Counter\n",
    "Counter(indexes)"
   ]
  },
  {
   "cell_type": "code",
   "execution_count": 11,
   "metadata": {},
   "outputs": [
    {
     "data": {
      "text/plain": [
       "Counter({'anger': 5, 'fear': 4, 'joy': 18, 'sadness': 19})"
      ]
     },
     "execution_count": 11,
     "metadata": {},
     "output_type": "execute_result"
    }
   ],
   "source": [
    "from collections import Counter\n",
    "Counter(all1_verse)"
   ]
  },
  {
   "cell_type": "code",
   "execution_count": 12,
   "metadata": {},
   "outputs": [
    {
     "data": {
      "text/plain": [
       "Counter({'anger': 8, 'disgust': 2, 'fear': 3, 'joy': 20, 'sadness': 13})"
      ]
     },
     "execution_count": 12,
     "metadata": {},
     "output_type": "execute_result"
    }
   ],
   "source": [
    "from collections import Counter\n",
    "Counter(all1_ch)"
   ]
  },
  {
   "cell_type": "code",
   "execution_count": 14,
   "metadata": {},
   "outputs": [
    {
     "data": {
      "text/plain": [
       "Counter({'alternative metal': 7,\n",
       "         'alternative rock': 14,\n",
       "         'avant-garde': 1,\n",
       "         'country': 1,\n",
       "         'country blues': 1,\n",
       "         'crossover thrash': 3,\n",
       "         'k-pop': 6,\n",
       "         'mashup': 4,\n",
       "         'metal': 1,\n",
       "         'pop': 8,\n",
       "         'punk rock': 2,\n",
       "         'rock': 13,\n",
       "         'ska': 2,\n",
       "         'soul': 3,\n",
       "         'underground rap': 1})"
      ]
     },
     "execution_count": 14,
     "metadata": {},
     "output_type": "execute_result"
    }
   ],
   "source": [
    "ch2 = pd.read_csv('all_cluster2.csv', sep=',', encoding = \"ISO-8859-1\")\n",
    "all2_genre = ch2.Genre\n",
    "all2_verse = ch2.verse_emotion\n",
    "all2_ch = ch2.chorus_emotion\n",
    "\n",
    "from collections import Counter\n",
    "Counter(all2_genre)"
   ]
  },
  {
   "cell_type": "code",
   "execution_count": 15,
   "metadata": {},
   "outputs": [
    {
     "data": {
      "text/plain": [
       "Counter({'anger': 7, 'disgust': 2, 'fear': 8, 'joy': 25, 'sadness': 25})"
      ]
     },
     "execution_count": 15,
     "metadata": {},
     "output_type": "execute_result"
    }
   ],
   "source": [
    "from collections import Counter\n",
    "Counter(all2_verse)"
   ]
  },
  {
   "cell_type": "code",
   "execution_count": 16,
   "metadata": {},
   "outputs": [
    {
     "data": {
      "text/plain": [
       "Counter({'anger': 5, 'disgust': 3, 'fear': 9, 'joy': 28, 'sadness': 22})"
      ]
     },
     "execution_count": 16,
     "metadata": {},
     "output_type": "execute_result"
    }
   ],
   "source": [
    "from collections import Counter\n",
    "Counter(all2_ch)"
   ]
  },
  {
   "cell_type": "code",
   "execution_count": 18,
   "metadata": {},
   "outputs": [
    {
     "data": {
      "text/plain": [
       "Counter({'alternative': 2,\n",
       "         'alternative metal': 9,\n",
       "         'alternative rock': 24,\n",
       "         'ballad': 1,\n",
       "         'blues': 1,\n",
       "         'country': 4,\n",
       "         'crossover thrash': 13,\n",
       "         'folk': 2,\n",
       "         'k-pop': 4,\n",
       "         'mashup': 6,\n",
       "         'metal': 2,\n",
       "         'pop': 4,\n",
       "         'rock': 18,\n",
       "         'rock steady': 1,\n",
       "         'ska': 3,\n",
       "         'soul': 3})"
      ]
     },
     "execution_count": 18,
     "metadata": {},
     "output_type": "execute_result"
    }
   ],
   "source": [
    "ch3 = pd.read_csv('all_cluster3.csv', sep=',', encoding = \"ISO-8859-1\")\n",
    "all3_genre = ch3.Genre\n",
    "all3_verse = ch3.verse_emotion\n",
    "all3_ch = ch3.chorus_emotion\n",
    "\n",
    "from collections import Counter\n",
    "Counter(all3_genre)\n"
   ]
  },
  {
   "cell_type": "code",
   "execution_count": 7,
   "metadata": {},
   "outputs": [
    {
     "data": {
      "text/plain": [
       "Counter({'anger': 11, 'disgust': 4, 'fear': 4, 'joy': 30, 'sadness': 48})"
      ]
     },
     "execution_count": 7,
     "metadata": {},
     "output_type": "execute_result"
    }
   ],
   "source": [
    "ch3 = pd.read_csv('all_cluster3.csv', sep=',', encoding = \"ISO-8859-1\")\n",
    "all_cluster3= ch3.verse_emotion\n",
    "\n",
    "from collections import Counter\n",
    "Counter(all_cluster3)"
   ]
  },
  {
   "cell_type": "code",
   "execution_count": 19,
   "metadata": {},
   "outputs": [
    {
     "data": {
      "text/plain": [
       "Counter({'anger': 11, 'disgust': 4, 'fear': 4, 'joy': 30, 'sadness': 48})"
      ]
     },
     "execution_count": 19,
     "metadata": {},
     "output_type": "execute_result"
    }
   ],
   "source": [
    "from collections import Counter\n",
    "Counter(all3_verse)"
   ]
  },
  {
   "cell_type": "code",
   "execution_count": 20,
   "metadata": {},
   "outputs": [
    {
     "data": {
      "text/plain": [
       "Counter({'anger': 9, 'disgust': 5, 'fear': 8, 'joy': 37, 'sadness': 38})"
      ]
     },
     "execution_count": 20,
     "metadata": {},
     "output_type": "execute_result"
    }
   ],
   "source": [
    "from collections import Counter\n",
    "Counter(all3_ch)"
   ]
  },
  {
   "cell_type": "code",
   "execution_count": null,
   "metadata": {
    "collapsed": true
   },
   "outputs": [],
   "source": []
  },
  {
   "cell_type": "code",
   "execution_count": 4,
   "metadata": {},
   "outputs": [
    {
     "data": {
      "text/plain": [
       "Counter({'alternative': 2,\n",
       "         'country': 7,\n",
       "         'folk': 4,\n",
       "         'punk rock': 9,\n",
       "         'rock steady': 1,\n",
       "         'ska': 4,\n",
       "         'underground rap': 2})"
      ]
     },
     "execution_count": 4,
     "metadata": {},
     "output_type": "execute_result"
    }
   ],
   "source": [
    "ch = pd.read_csv('cluster1.csv', sep=',', encoding = \"ISO-8859-1\")\n",
    "all1_genre = ch.Genre\n",
    "all1_verse = ch.verse_emotion\n",
    "all1_ch = ch.chorus_emotion\n",
    "\n",
    "from collections import Counter\n",
    "Counter(all1_genre)"
   ]
  },
  {
   "cell_type": "code",
   "execution_count": 5,
   "metadata": {},
   "outputs": [
    {
     "data": {
      "text/plain": [
       "Counter({'anger': 6, 'fear': 4, 'joy': 8, 'sadness': 11})"
      ]
     },
     "execution_count": 5,
     "metadata": {},
     "output_type": "execute_result"
    }
   ],
   "source": [
    "from collections import Counter\n",
    "Counter(all1_verse)"
   ]
  },
  {
   "cell_type": "code",
   "execution_count": 6,
   "metadata": {},
   "outputs": [
    {
     "data": {
      "text/plain": [
       "Counter({'anger': 8, 'disgust': 1, 'fear': 1, 'joy': 12, 'sadness': 7})"
      ]
     },
     "execution_count": 6,
     "metadata": {},
     "output_type": "execute_result"
    }
   ],
   "source": [
    "from collections import Counter\n",
    "Counter(all1_ch)"
   ]
  },
  {
   "cell_type": "code",
   "execution_count": 7,
   "metadata": {},
   "outputs": [
    {
     "data": {
      "text/plain": [
       "Counter({'alternative metal': 22,\n",
       "         'alternative rock': 53,\n",
       "         'country blues': 1,\n",
       "         'crossover thrash': 17,\n",
       "         'k-pop': 10,\n",
       "         'metal': 3,\n",
       "         'ska': 1,\n",
       "         'soul': 7})"
      ]
     },
     "execution_count": 7,
     "metadata": {},
     "output_type": "execute_result"
    }
   ],
   "source": [
    "ch2 = pd.read_csv('cluster2.csv', sep=',', encoding = \"ISO-8859-1\")\n",
    "all2_genre = ch2.Genre\n",
    "all2_verse = ch2.verse_emotion\n",
    "all2_ch = ch2.chorus_emotion\n",
    "\n",
    "from collections import Counter\n",
    "Counter(all2_genre)"
   ]
  },
  {
   "cell_type": "code",
   "execution_count": 8,
   "metadata": {},
   "outputs": [
    {
     "data": {
      "text/plain": [
       "Counter({'anger': 12, 'disgust': 6, 'fear': 7, 'joy': 33, 'sadness': 56})"
      ]
     },
     "execution_count": 8,
     "metadata": {},
     "output_type": "execute_result"
    }
   ],
   "source": [
    "from collections import Counter\n",
    "Counter(all2_verse)"
   ]
  },
  {
   "cell_type": "code",
   "execution_count": 9,
   "metadata": {},
   "outputs": [
    {
     "data": {
      "text/plain": [
       "Counter({'anger': 12, 'disgust': 5, 'fear': 10, 'joy': 42, 'sadness': 45})"
      ]
     },
     "execution_count": 9,
     "metadata": {},
     "output_type": "execute_result"
    }
   ],
   "source": [
    "from collections import Counter\n",
    "Counter(all2_ch)"
   ]
  },
  {
   "cell_type": "code",
   "execution_count": 10,
   "metadata": {},
   "outputs": [
    {
     "data": {
      "text/plain": [
       "Counter({'avant-garde': 1, 'ballad': 2, 'blues': 1, 'pop': 17, 'rock': 46})"
      ]
     },
     "execution_count": 10,
     "metadata": {},
     "output_type": "execute_result"
    }
   ],
   "source": [
    "ch3 = pd.read_csv('cluster3.csv', sep=',', encoding = \"ISO-8859-1\")\n",
    "all3_genre = ch3.Genre\n",
    "all3_verse = ch3.verse_emotion\n",
    "all3_ch = ch3.chorus_emotion\n",
    "\n",
    "from collections import Counter\n",
    "Counter(all3_genre)\n"
   ]
  },
  {
   "cell_type": "code",
   "execution_count": 11,
   "metadata": {},
   "outputs": [
    {
     "data": {
      "text/plain": [
       "Counter({'anger': 5, 'fear': 5, 'joy': 32, 'sadness': 25})"
      ]
     },
     "execution_count": 11,
     "metadata": {},
     "output_type": "execute_result"
    }
   ],
   "source": [
    "from collections import Counter\n",
    "Counter(all3_verse)"
   ]
  },
  {
   "cell_type": "code",
   "execution_count": 12,
   "metadata": {},
   "outputs": [
    {
     "data": {
      "text/plain": [
       "Counter({'anger': 2, 'disgust': 4, 'fear': 9, 'joy': 31, 'sadness': 21})"
      ]
     },
     "execution_count": 12,
     "metadata": {},
     "output_type": "execute_result"
    }
   ],
   "source": [
    "from collections import Counter\n",
    "Counter(all3_ch)"
   ]
  }
 ],
 "metadata": {
  "kernelspec": {
   "display_name": "Python 3",
   "language": "python",
   "name": "python3"
  },
  "language_info": {
   "codemirror_mode": {
    "name": "ipython",
    "version": 3
   },
   "file_extension": ".py",
   "mimetype": "text/x-python",
   "name": "python",
   "nbconvert_exporter": "python",
   "pygments_lexer": "ipython3",
   "version": "3.6.2"
  }
 },
 "nbformat": 4,
 "nbformat_minor": 2
}
