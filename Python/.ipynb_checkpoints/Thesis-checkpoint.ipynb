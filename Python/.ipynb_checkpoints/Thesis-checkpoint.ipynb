{
 "cells": [
  {
   "cell_type": "code",
   "execution_count": 1,
   "metadata": {
    "collapsed": true
   },
   "outputs": [],
   "source": [
    "song_parts = ['[verse]', '[chorus]','[intro]', '[outro]', '[bridge]']"
   ]
  },
  {
   "cell_type": "code",
   "execution_count": 2,
   "metadata": {
    "collapsed": true
   },
   "outputs": [],
   "source": [
    "#Artist object\n",
    "class Artist(object):\n",
    "    \"\"\"__init__() functions as the class constructor\"\"\"\n",
    "    def __init__(self, name=None):\n",
    "        self.name = name\n",
    "        self.song = []\n",
    "        \n",
    "    def addSong(self, song):\n",
    "        self.song.append(song)\n",
    "        \n",
    "    def __repr__(self):\n",
    "        return str(self)\n",
    "    def getName(self):\n",
    "        return self.name"
   ]
  },
  {
   "cell_type": "code",
   "execution_count": 3,
   "metadata": {
    "collapsed": true
   },
   "outputs": [],
   "source": [
    "#Song Object\n",
    "import re\n",
    "class Song(object):\n",
    "            \n",
    "        def __init__(self, name=None, lyrics = None):\n",
    "            self.name = name\n",
    "            self.chorus = []\n",
    "            self.verse = []\n",
    "            self.intro = []\n",
    "            self.outro = []\n",
    "            self.refrain = []\n",
    "            self.lyrics = []\n",
    "            self.bridge = []\n",
    "        def getChorus(self):\n",
    "            return self.chorus\n",
    "        def getVerse(self):\n",
    "            return self.verse\n",
    "        def getBridge(self):\n",
    "            return self.bridge\n",
    "        def getIntro(self):\n",
    "            return self.intro\n",
    "        def getRefrain(self):\n",
    "            return self.refrain\n",
    "        def getOutro(self):\n",
    "            return self.outro\n",
    "        def addLyrics(self, lyrics):\n",
    "             #clean the lyrics\n",
    "                self.lyrics = lyrics\n",
    "                self._getParts(lyrics)\n",
    "                return self\n",
    "        def __repr__(self):\n",
    "            return str(self)\n",
    "        def getName(self):\n",
    "            return self.name\n",
    "        def _getParts(self,lyrics):\n",
    "            mark = 0\n",
    "            if lyrics:\n",
    "                for line in lyrics:\n",
    "                    line = line.replace(',','')\n",
    "                    line = line.rstrip()\n",
    "                        #put lyrics in specific parts\n",
    "                    #print(line)\n",
    "                    if line == '[chorus]' or mark == 1:\n",
    "                        mark = 1\n",
    "                        self.chorus.append(line)\n",
    "                    elif line == '[verse]' or mark == 2:\n",
    "                        mark = 2\n",
    "                        self.verse.append(line)\n",
    "                    elif line == '[intro]' or mark == 3:\n",
    "                        mark = 3\n",
    "                        self.intro.append(line)\n",
    "                    elif line == '[outro]' or mark == 4:\n",
    "                        mark = 4\n",
    "                        self.outro.append(line)\n",
    "                    else:\n",
    "                        self.bridge.append(line)\n",
    "                            \n",
    "                            \n",
    "        "
   ]
  },
  {
   "cell_type": "code",
   "execution_count": 4,
   "metadata": {},
   "outputs": [
    {
     "ename": "FileNotFoundError",
     "evalue": "[WinError 3] The system cannot find the path specified: '/Users/rl-003/Desktop/Thesis/Song-Lyrics'",
     "output_type": "error",
     "traceback": [
      "\u001b[1;31m---------------------------------------------------------------------------\u001b[0m",
      "\u001b[1;31mFileNotFoundError\u001b[0m                         Traceback (most recent call last)",
      "\u001b[1;32m<ipython-input-4-daf4c6a5bdf5>\u001b[0m in \u001b[0;36m<module>\u001b[1;34m()\u001b[0m\n\u001b[0;32m      5\u001b[0m \u001b[1;33m\u001b[0m\u001b[0m\n\u001b[0;32m      6\u001b[0m \u001b[1;31m#get list of names of musicians\u001b[0m\u001b[1;33m\u001b[0m\u001b[1;33m\u001b[0m\u001b[0m\n\u001b[1;32m----> 7\u001b[1;33m \u001b[0martist_names\u001b[0m  \u001b[1;33m=\u001b[0m \u001b[0mos\u001b[0m\u001b[1;33m.\u001b[0m\u001b[0mlistdir\u001b[0m\u001b[1;33m(\u001b[0m\u001b[1;34mr'/Users/rl-003/Desktop/Thesis/Song-Lyrics'\u001b[0m\u001b[1;33m)\u001b[0m\u001b[1;33m\u001b[0m\u001b[0m\n\u001b[0m\u001b[0;32m      8\u001b[0m \u001b[0martists\u001b[0m \u001b[1;33m=\u001b[0m \u001b[1;33m[\u001b[0m\u001b[1;33m]\u001b[0m\u001b[1;33m\u001b[0m\u001b[0m\n\u001b[0;32m      9\u001b[0m \u001b[1;32mfor\u001b[0m \u001b[0mi\u001b[0m \u001b[1;32min\u001b[0m \u001b[0mrange\u001b[0m\u001b[1;33m(\u001b[0m\u001b[0mlen\u001b[0m\u001b[1;33m(\u001b[0m\u001b[0martist_names\u001b[0m\u001b[1;33m)\u001b[0m\u001b[1;33m)\u001b[0m\u001b[1;33m:\u001b[0m\u001b[1;33m\u001b[0m\u001b[0m\n",
      "\u001b[1;31mFileNotFoundError\u001b[0m: [WinError 3] The system cannot find the path specified: '/Users/rl-003/Desktop/Thesis/Song-Lyrics'"
     ]
    }
   ],
   "source": [
    "#make table of all musicians and lyrics first\n",
    "import anew\n",
    "import os\n",
    "import itertools\n",
    "\n",
    "#get list of names of musicians\n",
    "artist_names  = os.listdir(r'C:/Users/Cedezmarie/Desktop/Thesis/Song-Lyrics')\n",
    "artists = []\n",
    "for i in range(len(artist_names)):\n",
    "    artists.append(Artist(artist_names[i]))"
   ]
  },
  {
   "cell_type": "code",
   "execution_count": null,
   "metadata": {
    "collapsed": true
   },
   "outputs": [],
   "source": []
  },
  {
   "cell_type": "code",
   "execution_count": null,
   "metadata": {},
   "outputs": [],
   "source": [
    "#store all the lyrics inside a certain musician\n",
    "count = 0\n",
    "print(len(artists))\n",
    "for i in range(len(artist_names)):\n",
    "    try:\n",
    "        temp =  os.listdir('C:/Users/Cedezmarie/Desktop/Thesis/Song-Lyrics/' + artist_names[i])\n",
    "        \n",
    "        if temp:\n",
    "            for j in range(len(temp)):\n",
    "                    song = Song(temp[j].replace('.txt', ''))\n",
    "                    try:\n",
    "                        with open(str(\"C:/Users/Cedezmarie/Desktop/Thesis/Song-Lyrics/\"+ artist_names[i]) + '/' + temp[j],'r') as f:\n",
    "                            lyrics = f.readlines()\n",
    "                           # print(lyrics)\n",
    "                            song.addLyrics(lyrics)\n",
    "                    except IOError as e:\n",
    "                            print('Error')\n",
    "                    artists[i].addSong(song)\n",
    "                    count += 1\n",
    "                   # print(song\n",
    "    except:\n",
    "        print('Error')\n",
    "print(count)\n",
    "        "
   ]
  },
  {
   "cell_type": "code",
   "execution_count": null,
   "metadata": {},
   "outputs": [],
   "source": [
    "import csv\n",
    "with open('songs_parts.csv', 'w') as csvfile:\n",
    "    sentiment_writer = csv.writer(csvfile, delimiter=',', quotechar='\"', quoting=csv.QUOTE_MINIMAL)\n",
    "    sentiment_writer.writerow([\"Artist\", \"Song Title\",  \"verse\", \"chorus\",\"intro\",\"outro\",\"bridge\"])\n",
    "    for artist in artists:\n",
    "        for i in range(len(artist.song)):\n",
    "                try:\n",
    "                       chorus = \" \"\n",
    "                       chorus = chorus.join(artist.song[i].getChorus())\n",
    "                       print(chorus)\n",
    "                       verse = \" \"\n",
    "                       verse =  verse.join(artist.song[i].getVerse())\n",
    "                       print(verse)\n",
    "                       intro = \" \"\n",
    "                       intro =  intro.join(artist.song[i].getIntro())\n",
    "                       outro = \" \"\n",
    "                       outro =  outro.join(artist.song[i].getOutro())\n",
    "                       bridge = \" \"\n",
    "                       bridge = bridge.join(artist.song[i].getBridge())\n",
    "                       sentiment_writer.writerow([artist.getName(),artist.song[i].getName(),verse,chorus,intro,outro,bridge])\n",
    "                except:\n",
    "                     print('Error')\n",
    "            "
   ]
  },
  {
   "cell_type": "code",
   "execution_count": null,
   "metadata": {
    "collapsed": true
   },
   "outputs": [],
   "source": []
  },
  {
   "cell_type": "code",
   "execution_count": null,
   "metadata": {},
   "outputs": [],
   "source": [
    "#preprocessing the lyrics\n",
    "#deleting unnecessary stuff and segmenting the lyrics to the chorus, intro, verse etc\n",
    "from spotipy.oauth2 import SpotifyClientCredentials\n",
    "import json\n",
    "import spotipy\n",
    "import time\n",
    "import sys\n",
    "client_credentials_manager = SpotifyClientCredentials()\n",
    "sp = spotipy.Spotify(client_credentials_manager=client_credentials_manager)\n",
    "\n",
    "sp.trace=False\n",
    "\n",
    "q = ('artist:Chester Bennington track:black heart')\n",
    "results = sp.search(q='chester Bennington - Black Heart', limit=1)\n",
    "print(results['tracks']['items'][0]['id'])\n",
    "\n",
    "features = sp.audio_features('5LVH5E6CoJGdDE1CmwpN9B')\n",
    "print(features)"
   ]
  },
  {
   "cell_type": "code",
   "execution_count": null,
   "metadata": {},
   "outputs": [],
   "source": [
    "print(features[0]['loudness'])"
   ]
  },
  {
   "cell_type": "code",
   "execution_count": null,
   "metadata": {},
   "outputs": [],
   "source": [
    "import csv\n",
    "with open('audio_features.csv', 'w') as csvfile:\n",
    "    sentiment_writer = csv.writer(csvfile, delimiter=',', quotechar='\"', quoting=csv.QUOTE_MINIMAL)\n",
    "    sentiment_writer.writerow([\"Artist\", \"Song Title\",  \"Tempo\", \"Loudness\",\"Energy\",\"Genre\"])\n",
    "    for artist in artists:\n",
    "        for i in range(len(artist.song)):\n",
    "            print(artist.getName())\n",
    "            q = (str(artist.getName()) + ' - ' + str(artist.song[i].getName()))\n",
    "            results = sp.search(q, limit=5)\n",
    "            print(results)\n",
    "            try:\n",
    "                features = sp.audio_features(results['tracks']['items'][0]['id'])\n",
    "                if features:\n",
    "                    tempo = features[0]['tempo']\n",
    "                    loudness = features[0]['loudness']\n",
    "                    energy = features[0]['energy']\n",
    "                    genre = features[0]['type']\n",
    "                    #print(results['tracks']['items'][0]['id'])\n",
    "                    sentiment_writer.writerow([artist.getName(),artist.song[i].getName(),tempo,loudness,energy,genre])\n",
    "            except:\n",
    "                     print('Error')\n",
    "            \n"
   ]
  },
  {
   "cell_type": "code",
   "execution_count": null,
   "metadata": {
    "collapsed": true
   },
   "outputs": [],
   "source": []
  },
  {
   "cell_type": "code",
   "execution_count": null,
   "metadata": {
    "collapsed": true
   },
   "outputs": [],
   "source": [
    "pip install indicoio"
   ]
  },
  {
   "cell_type": "code",
   "execution_count": null,
   "metadata": {
    "collapsed": true
   },
   "outputs": [],
   "source": [
    "\n",
    "#print(content)\n",
    "with open('sentiment.csv', 'w') as csvfile:\n",
    "    sentiment_writer = csv.writer(csvfile, delimiter=',', quotechar='\"', quoting=csv.QUOTE_MINIMAL)\n",
    "    sentiment_writer.writerow([\"Sentence\", \"FileName\",  \"Valence\", \"Arousal\"])\n",
    "    for artist in artists:\n",
    "        for song in artist:\n",
    "            line = line.replace(',','')\n",
    "            line = line.rstrip()\n",
    "            if line.strip():\n",
    "                line_to_word = line.split(\" \")\n",
    "                print(line_to_word)\n",
    "                sentiment_attributes = anew.sentiment(line_to_word)\n",
    "                sentiment_writer.writerow([line_to_word, sentiment_attributes['valence'], sentiment_attributes['arousal']])\n",
    "    "
   ]
  },
  {
   "cell_type": "code",
   "execution_count": 7,
   "metadata": {},
   "outputs": [
    {
     "name": "stdout",
     "output_type": "stream",
     "text": [
      "{'anger': 0.1772690713, 'surprise': 0.10035737600000001, 'sadness': 0.5840251446, 'fear': 0.08263499290000001, 'joy': 0.055713348100000004}\n",
      "0.5840251446 ['sadness']\n"
     ]
    }
   ],
   "source": [
    "import indicoio\n",
    "import operator\n",
    "indicoio.config.api_key = '00d00d740a334a365d45450286b369d1'\n",
    "\n",
    "samp = indicoio.emotion(\"Load up on guns. Bring your friends. It's fun to lose and to pretend. She's overboard, self assured. Oh no I know, a dirty word\")\n",
    "max_value = max(samp.values())  \n",
    "max_keys = [k for k, v in samp.items() if v == max_value]\n",
    "print(samp)\n",
    "print(max_value, max_keys)"
   ]
  },
  {
   "cell_type": "code",
   "execution_count": null,
   "metadata": {
    "collapsed": true
   },
   "outputs": [],
   "source": []
  },
  {
   "cell_type": "code",
   "execution_count": null,
   "metadata": {
    "collapsed": true
   },
   "outputs": [],
   "source": [
    "import numpy as np\n",
    "import pandas as pd\n",
    "import matplotlib.pyplot as plt\n",
    "\n",
    "lyrics = pd.read_csv('sentiment.csv')\n",
    "X_lyrics = lyrics[['Valence','Arousal']].as_matrix()"
   ]
  },
  {
   "cell_type": "code",
   "execution_count": null,
   "metadata": {
    "collapsed": true
   },
   "outputs": [],
   "source": [
    "from sklearn.datasets import make_blobs\n",
    "from sklearn.cluster import KMeans\n",
    "\n",
    "kmeans = KMeans(n_clusters=4)\n",
    "kmeans.fit(X_lyrics)\n",
    "centroids = kmeans.cluster_centers_\n",
    "labels = kmeans.labels_\n",
    "colors = [\"g.\",\"r.\",\"c.\",\"y.\"]\n",
    "plt.figure(figsize=(15,15))\n",
    "plt.axvline(x=5)\n",
    "plt.axhline(y=5)\n",
    "for i in range(len(X_lyrics)):\n",
    "    plt.plot(X_lyrics[i][0], X_lyrics[i][1],colors[int(labels[i])], markersize =10)\n",
    "\n",
    "plt.xlabel(\"Valence\")\n",
    "plt.ylabel(\"Arousal\")\n",
    "#plt.grid(linestyle='-', linewidth=1)\n",
    "plt.scatter(centroids[:, 0],centroids[:, 1], marker = \"x\", s=150, linewidths = 5, zorder = 10)\n",
    "plt.show()"
   ]
  }
 ],
 "metadata": {
  "kernelspec": {
   "display_name": "Python 3",
   "language": "python",
   "name": "python3"
  },
  "language_info": {
   "codemirror_mode": {
    "name": "ipython",
    "version": 3
   },
   "file_extension": ".py",
   "mimetype": "text/x-python",
   "name": "python",
   "nbconvert_exporter": "python",
   "pygments_lexer": "ipython3",
   "version": "3.6.2"
  }
 },
 "nbformat": 4,
 "nbformat_minor": 2
}
