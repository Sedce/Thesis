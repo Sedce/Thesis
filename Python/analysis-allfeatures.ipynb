{
 "cells": [
  {
   "cell_type": "code",
   "execution_count": 15,
   "metadata": {},
   "outputs": [
    {
     "data": {
      "text/plain": [
       "Counter({0: 92, 1: 73, 2: 16, 3: 6, 4: 23})"
      ]
     },
     "execution_count": 15,
     "metadata": {},
     "output_type": "execute_result"
    }
   ],
   "source": [
    "#verse \n",
    "import pandas as pd\n",
    "ch = pd.read_csv('all_features.csv', sep=',', encoding = \"ISO-8859-1\")\n",
    "arr = ch.values\n",
    "indexes = []\n",
    "import operator\n",
    "for i in arr:\n",
    "    index, value = max(enumerate(i[9:14]), key=operator.itemgetter(1))\n",
    "    indexes.append(index)\n",
    "\n",
    "from collections import Counter\n",
    "Counter(indexes)"
   ]
  },
  {
   "cell_type": "code",
   "execution_count": 16,
   "metadata": {},
   "outputs": [
    {
     "data": {
      "text/plain": [
       "Counter({0: 73, 1: 85, 2: 20, 3: 10, 4: 22})"
      ]
     },
     "execution_count": 16,
     "metadata": {},
     "output_type": "execute_result"
    }
   ],
   "source": [
    "#chorus\n",
    "import pandas as pd\n",
    "ch = pd.read_csv('all_features.csv', sep=',', encoding = \"ISO-8859-1\")\n",
    "arr = ch.values\n",
    "indexes1 = []\n",
    "import operator\n",
    "for i in arr:\n",
    "    index, value = max(enumerate(i[14:19]), key=operator.itemgetter(1))\n",
    "    indexes1.append(index)\n",
    "\n",
    "from collections import Counter\n",
    "Counter(indexes1)"
   ]
  },
  {
   "cell_type": "code",
   "execution_count": 17,
   "metadata": {},
   "outputs": [
    {
     "data": {
      "text/plain": [
       "Counter({1: 17,\n",
       "         3: 33,\n",
       "         4: 1,\n",
       "         5: 2,\n",
       "         6: 1,\n",
       "         7: 1,\n",
       "         8: 22,\n",
       "         9: 7,\n",
       "         10: 53,\n",
       "         11: 17,\n",
       "         12: 3,\n",
       "         13: 10,\n",
       "         14: 5,\n",
       "         15: 1,\n",
       "         16: 2,\n",
       "         17: 4,\n",
       "         18: 9,\n",
       "         19: 13,\n",
       "         20: 7,\n",
       "         21: 2})"
      ]
     },
     "execution_count": 17,
     "metadata": {},
     "output_type": "execute_result"
    }
   ],
   "source": [
    "import pandas as pd\n",
    "ch = pd.read_csv('all_features.csv', sep=',', encoding = \"ISO-8859-1\")\n",
    "arr = ch.Genre\n",
    "from collections import Counter\n",
    "Counter(arr)"
   ]
  },
  {
   "cell_type": "code",
   "execution_count": 20,
   "metadata": {},
   "outputs": [
    {
     "name": "stdout",
     "output_type": "stream",
     "text": [
      "123.50857619047615\n",
      "-8.793690476190475\n",
      "0.6527538095238097\n",
      "0.4822238095238098\n",
      "0.680952380952381\n",
      "0.4853995238095239\n"
     ]
    }
   ],
   "source": [
    "import pandas as pd\n",
    "import numpy as np\n",
    "ch = pd.read_csv('all_features.csv', sep=',', encoding = \"ISO-8859-1\")\n",
    "tempo = ch.Tempo\n",
    "loudness = ch.Loudness\n",
    "energy =  ch.Energy\n",
    "danceability = ch.Danceability\n",
    "mode = ch.Mode\n",
    "valence = ch.Valence\n",
    "print(np.mean(tempo))\n",
    "print(np.mean(loudness))\n",
    "print(np.mean(energy))\n",
    "print(np.mean(danceability))\n",
    "print(np.mean(mode))\n",
    "print(np.mean(valence))"
   ]
  }
 ],
 "metadata": {
  "kernelspec": {
   "display_name": "Python 3",
   "language": "python",
   "name": "python3"
  },
  "language_info": {
   "codemirror_mode": {
    "name": "ipython",
    "version": 3
   },
   "file_extension": ".py",
   "mimetype": "text/x-python",
   "name": "python",
   "nbconvert_exporter": "python",
   "pygments_lexer": "ipython3",
   "version": "3.6.2"
  }
 },
 "nbformat": 4,
 "nbformat_minor": 2
}
