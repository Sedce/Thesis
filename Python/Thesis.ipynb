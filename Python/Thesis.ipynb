{
 "cells": [
  {
   "cell_type": "code",
   "execution_count": 124,
   "metadata": {
    "scrolled": true
   },
   "outputs": [
    {
     "name": "stdout",
     "output_type": "stream",
     "text": [
      "Justin Bieber\n",
      "Oh whoa\n",
      "Oh whoa\n",
      "Oh whoa\n",
      "\n",
      "You know you love me, I know you care\n",
      "Just shout whenever, and I'll be there\n",
      "You are my love, you are my heart\n",
      "And we would never ever ever be apart\n",
      "\n",
      "Are we an item? Girl, quit playing\n",
      "We're just friends, what are you saying?\n",
      "Say there's another and look right in my eyes\n",
      "My first love broke my heart for the first time\n",
      "And I was like...\n",
      "\n",
      "Baby, baby, baby ooh\n",
      "Like baby, baby, baby no\n",
      "Like baby, baby, baby ooh\n",
      "I thought you'd always be mine (mine)\n",
      "\n",
      "Baby, baby, baby ooh\n",
      "Like baby, baby, baby no\n",
      "Like baby, baby, baby ooh\n",
      "I thought you'd always be mine (mine)\n",
      "\n",
      "Oh, for you I would have done whatever\n",
      "And I just can't believe we ain't together\n",
      "And I wanna play it cool, but I'm losin' you\n",
      "I'll buy you anything, I'll buy you any ring\n",
      "And I'm in pieces, baby fix me\n",
      "And just shake me 'til you wake me from this bad dream\n",
      "I'm going down, down, down, down\n",
      "And I just can't believe my first love won't be around\n",
      "\n",
      "And I'm like\n",
      "Baby, baby, baby ooh\n",
      "Like baby, baby, baby no\n",
      "Like baby, baby, baby ooh\n",
      "I thought you'd always be mine (mine)\n",
      "\n",
      "Baby, baby, baby ooh\n",
      "Like baby, baby, baby no\n",
      "Like baby, baby, baby ooh\n",
      "I thought you'd always be mine (mine)\n",
      "\n",
      "Ludacris\n",
      "Luda! When I was 13, I had my first love\n",
      "There was nobody that compared to my baby\n",
      "And nobody came between us or could ever come above\n",
      "She had me going crazy, oh, I was star-struck\n",
      "She woke me up daily, don't need no Starbucks\n",
      "She made my heart pound, it skipped a beat when I see her in the street and\n",
      "At school on the playground but I really wanna see her on the weekend\n",
      "She knows she got me dazing cause she was so amazing\n",
      "And now my heart is breaking but I just keep on saying...\n",
      "\n",
      "Justin Bieber\n",
      "Baby, baby, baby ooh\n",
      "Like baby, baby, baby no\n",
      "Like baby, baby, baby ooh\n",
      "I thought you'd always be mine (mine)\n",
      "\n",
      "Baby, baby, baby ooh\n",
      "Like baby, baby, baby no\n",
      "Like baby, baby, baby ooh\n",
      "I thought you'd always be mine (mine)\n",
      "\n",
      "I'm gone (yeah yeah yeah, yeah yeah yeah)\n",
      "Now I'm all gone (yeah yeah yeah, yeah yeah yeah)\n",
      "Now I'm all gone (yeah yeah yeah, yeah yeah yeah)\n",
      "Now I'm all gone (gone, gone, gone...)\n",
      "I'm gone\n"
     ]
    }
   ],
   "source": [
    "import string\n",
    "import re\n",
    "import nltk\n",
    "from nltk import word_tokenize\n",
    "from collections import Counter\n",
    "import lyricwikia\n",
    "\n",
    "print( lyricwikia.get_lyrics('Justin Bieber', 'Baby'))\n",
    "def get_tokens():\n",
    "    text = lyricwikia.get_lyrics('Justin Bieber', 'Baby')\n",
    "    lowers = text.lower()\n",
    "    #remove the punctuation using the character deletion step of translate\n",
    "    #no_punctuation = lowers.translate(None,string.punctuation)\n",
    "    #remove the enter/spaces \n",
    "    translation = str.maketrans(\"\", \"\", string.punctuation)\n",
    "    no_enter =  re.sub(r\"\\\\n\",\" \", lowers)\n",
    "    no_punctuation = lowers.translate(translation)\n",
    "    tokens = nltk.word_tokenize(no_punctuation)\n",
    "    return tokens"
   ]
  },
  {
   "cell_type": "code",
   "execution_count": 125,
   "metadata": {
    "collapsed": true
   },
   "outputs": [],
   "source": [
    "#tokens = get_tokens()\n",
    "#count = Counter(tokens)\n",
    "#print(count.most_common(10))"
   ]
  },
  {
   "cell_type": "code",
   "execution_count": 126,
   "metadata": {
    "collapsed": true
   },
   "outputs": [],
   "source": [
    "from nltk.corpus import stopwords\n",
    "\n",
    "#tokens = get_tokens()\n",
    "#filtered = [w for w in tokens if not w in stopwords.words('english')]\n",
    "#count = Counter(filtered)\n",
    "#print(count.most_common(100))\n"
   ]
  },
  {
   "cell_type": "code",
   "execution_count": 127,
   "metadata": {
    "collapsed": true
   },
   "outputs": [],
   "source": [
    "#tagged = nltk.pos_tag(tokens)\n",
    "#print(tagged)"
   ]
  },
  {
   "cell_type": "code",
   "execution_count": 128,
   "metadata": {
    "collapsed": true
   },
   "outputs": [],
   "source": [
    "from nltk.stem.porter import *\n",
    "\n",
    "def stem_tokens(tokens, stemmer):\n",
    "    stemmed = []\n",
    "    for item in tokens:\n",
    "        stemmed.append(stemmer.stem(item))\n",
    "    return stemmed\n",
    "\n",
    "#stemmer = PorterStemmer()\n",
    "#stemmed = stem_tokens(filtered, stemmer)\n",
    "#count = Counter(stemmed)\n",
    "#print (count.most_common(100))"
   ]
  },
  {
   "cell_type": "code",
   "execution_count": 129,
   "metadata": {
    "collapsed": true
   },
   "outputs": [],
   "source": [
    "from nltk.corpus import wordnet\n",
    "\n",
    "#get and weigh in the tagged words\n"
   ]
  },
  {
   "cell_type": "code",
   "execution_count": 130,
   "metadata": {
    "collapsed": true
   },
   "outputs": [],
   "source": [
    "# Get audio analysis from spotify and put it into an array\n",
    "Songs  = [] "
   ]
  },
  {
   "cell_type": "code",
   "execution_count": 7,
   "metadata": {},
   "outputs": [],
   "source": [
    "import anew\n",
    "import os\n",
    "import itertools\n",
    "\n",
    "#with open(\"C:/Users/Cedezmarie/Desktop/Thesis/Song-Lyrics/Kim Jonghyun/Lonely.txt\", 'r') as f:\n",
    "  #  content = f.readlines()\n",
    "    \n",
    "arr = os.listdir(r'C:\\Users\\Cedezmarie\\Desktop\\Thesis\\Song-Lyrics\\Kim Jonghyun')\n",
    "content = []\n",
    "for i in range(len(arr)):\n",
    "    with open(str(\"C:/Users/Cedezmarie/Desktop/Thesis/Song-Lyrics/Kim Jonghyun/\" + arr[i]), 'r') as f:\n",
    "            content.append(f.readlines())\n",
    "        \n",
    "content = [y for x in content for y in x]\n",
    "\n",
    "import csv\n",
    "#print(content)\n",
    "with open('sentiment.csv', 'w') as csvfile:\n",
    "    sentiment_writer = csv.writer(csvfile, delimiter=',', quotechar='\"', quoting=csv.QUOTE_MINIMAL)\n",
    "    sentiment_writer.writerow([\"Valence\", \"Arousal\"])\n",
    "    \n",
    "    for line in content:\n",
    "        line = line.replace(',','')\n",
    "        line = line.rstrip()\n",
    "        if line.strip():\n",
    "            line_to_word = line.split(\" \")\n",
    "            sentiment_attributes = anew.sentiment(line_to_word)\n",
    "            sentiment_writer.writerow([sentiment_attributes['valence'], sentiment_attributes['arousal']])"
   ]
  },
  {
   "cell_type": "code",
   "execution_count": 8,
   "metadata": {
    "collapsed": true
   },
   "outputs": [],
   "source": [
    "import numpy as np\n",
    "import pandas as pd\n",
    "import matplotlib.pyplot as plt\n",
    "\n",
    "lyrics = pd.read_csv('sentiment.csv')\n",
    "X_lyrics = lyrics[['Valence','Arousal']].as_matrix()"
   ]
  },
  {
   "cell_type": "code",
   "execution_count": 11,
   "metadata": {},
   "outputs": [
    {
     "data": {
      "image/png": "[encoded data removed]",
      "text/plain": [
       "<matplotlib.figure.Figure at 0x221f7988ba8>"
      ]
     },
     "metadata": {},
     "output_type": "display_data"
    }
   ],
   "source": [
    "from sklearn.datasets import make_blobs\n",
    "from sklearn.cluster import KMeans\n",
    "\n",
    "kmeans = KMeans(n_clusters=4)\n",
    "kmeans.fit(X_lyrics)\n",
    "centroids = kmeans.cluster_centers_\n",
    "labels = kmeans.labels_\n",
    "colors = [\"g.\",\"r.\",\"c.\",\"y.\"]\n",
    "for i in range(len(X_lyrics)):\n",
    "    plt.plot(X_lyrics[i][0], X_lyrics[i][1],colors[int(labels[i])], markersize =10)\n",
    "\n",
    "plt.scatter(centroids[:, 0],centroids[:, 1], marker = \"x\", s=150, linewidths = 5, zorder = 10)\n",
    "\n",
    "plt.show()"
   ]
  }
 ],
 "metadata": {
  "kernelspec": {
   "display_name": "Python 3",
   "language": "python",
   "name": "python3"
  },
  "language_info": {
   "codemirror_mode": {
    "name": "ipython",
    "version": 3
   },
   "file_extension": ".py",
   "mimetype": "text/x-python",
   "name": "python",
   "nbconvert_exporter": "python",
   "pygments_lexer": "ipython3",
   "version": "3.6.2"
  }
 },
 "nbformat": 4,
 "nbformat_minor": 2
}
