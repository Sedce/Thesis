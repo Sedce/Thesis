{
 "cells": [
  {
   "cell_type": "code",
   "execution_count": 11,
   "metadata": {
    "collapsed": true
   },
   "outputs": [],
   "source": [
    "#Artist object\n",
    "class Artist(object):\n",
    "    \"\"\"__init__() functions as the class constructor\"\"\"\n",
    "    def __init__(self, name=None):\n",
    "        \n",
    "        self.name = name\n",
    "        self.songs = []\n",
    "        \n",
    "    def addSong(self, song):\n",
    "        self.songs.append(song)\n",
    "    def __repr__(self):\n",
    "        return str(self)"
   ]
  },
  {
   "cell_type": "code",
   "execution_count": 12,
   "metadata": {
    "collapsed": true
   },
   "outputs": [],
   "source": [
    "#Song Object\n",
    "import re\n",
    "class Song(object):\n",
    "    \n",
    "        def __init__(self, name=None, lyrics = None):\n",
    "            self.name = name\n",
    "            self.lyrics = \"\"\n",
    "            \n",
    "        def addLyrics(self, lyrics):\n",
    "             #clean the lyrics\n",
    "            if lyrics:\n",
    "                regex = re.compile('[>*]')\n",
    "                #First parameter is the replacement, second parameter is your input string\n",
    "                lyrics = regex.sub('', str(lyrics))\n",
    "            #    print(lyrics)\n",
    "                self.lyrics = lyrics\n",
    "            return lyrics\n",
    "        def __repr__(self):\n",
    "            return str(self)"
   ]
  },
  {
   "cell_type": "code",
   "execution_count": 13,
   "metadata": {
    "collapsed": true
   },
   "outputs": [],
   "source": [
    "#make table of all musicians and lyrics first\n",
    "import anew\n",
    "import os\n",
    "import itertools\n",
    "\n",
    "#get list of names of musicians\n",
    "artist_names  = os.listdir(r'C:\\Users\\Cedezmarie\\Desktop\\Thesis\\Song-Lyrics')\n",
    "artists = []\n",
    "count = 0\n",
    "for i in range(len(artist_names)):\n",
    "    artists.append(Artist(artist_names[i]))"
   ]
  },
  {
   "cell_type": "code",
   "execution_count": 14,
   "metadata": {},
   "outputs": [
    {
     "name": "stdout",
     "output_type": "stream",
     "text": [
      "1\n",
      "2\n",
      "3\n",
      "4\n",
      "5\n",
      "6\n",
      "7\n",
      "8\n",
      "9\n",
      "10\n",
      "11\n",
      "12\n",
      "13\n",
      "14\n",
      "15\n",
      "16\n",
      "17\n",
      "18\n",
      "19\n",
      "20\n",
      "21\n",
      "22\n",
      "23\n",
      "24\n",
      "25\n",
      "26\n",
      "27\n",
      "28\n",
      "29\n",
      "30\n",
      "31\n",
      "32\n",
      "33\n",
      "34\n",
      "35\n",
      "36\n",
      "37\n",
      "38\n",
      "39\n",
      "40\n",
      "41\n",
      "42\n",
      "43\n",
      "44\n",
      "45\n",
      "46\n",
      "47\n",
      "48\n",
      "49\n",
      "50\n",
      "51\n",
      "52\n",
      "53\n",
      "54\n",
      "55\n",
      "56\n",
      "57\n",
      "58\n",
      "59\n",
      "60\n",
      "61\n",
      "62\n",
      "63\n",
      "64\n",
      "65\n",
      "66\n",
      "67\n",
      "68\n",
      "69\n",
      "70\n",
      "71\n",
      "72\n",
      "73\n",
      "74\n",
      "75\n",
      "76\n",
      "77\n",
      "78\n",
      "79\n",
      "80\n",
      "81\n",
      "82\n",
      "83\n",
      "84\n",
      "85\n",
      "86\n",
      "87\n",
      "88\n",
      "89\n",
      "90\n",
      "91\n",
      "92\n",
      "93\n",
      "94\n",
      "95\n",
      "96\n",
      "97\n",
      "98\n",
      "99\n",
      "100\n",
      "101\n",
      "102\n",
      "103\n",
      "104\n",
      "105\n",
      "106\n",
      "107\n",
      "108\n"
     ]
    }
   ],
   "source": [
    "#store all the lyrics inside a certain musician\n",
    "count = 0\n",
    "for i in range(len(artist_names)):\n",
    "    temp =  os.listdir('C:/Users/Cedezmarie/Desktop/Thesis/Song-Lyrics/' + artist_names[i])\n",
    "    if temp:\n",
    "        for j in range(len(temp)):\n",
    "            song = Song(temp[j].replace('.txt', ''))\n",
    "            with open(str(\"C:/Users/Cedezmarie/Desktop/Thesis/Song-Lyrics/\"+ artist_names[i]) + '/' + temp[j], 'r') as f:\n",
    "                   song = song.addLyrics(f.readlines())\n",
    "            artists[count].addSong(song)\n",
    "            count += 1\n",
    "            print(count)\n",
    "           # print(song)\n",
    "\n"
   ]
  },
  {
   "cell_type": "code",
   "execution_count": null,
   "metadata": {
    "collapsed": true
   },
   "outputs": [],
   "source": []
  },
  {
   "cell_type": "code",
   "execution_count": 5,
   "metadata": {
    "collapsed": true
   },
   "outputs": [],
   "source": [
    "#preprocessing the lyrics\n",
    "#deleting unnecessary stuff and segmenting the lyrics to the chorus, intro, verse etc\n"
   ]
  },
  {
   "cell_type": "code",
   "execution_count": 6,
   "metadata": {},
   "outputs": [
    {
     "ename": "IndexError",
     "evalue": "list index out of range",
     "output_type": "error",
     "traceback": [
      "\u001b[1;31m---------------------------------------------------------------------------\u001b[0m",
      "\u001b[1;31mIndexError\u001b[0m                                Traceback (most recent call last)",
      "\u001b[1;32m<ipython-input-6-790400d5049d>\u001b[0m in \u001b[0;36m<module>\u001b[1;34m()\u001b[0m\n\u001b[0;32m      5\u001b[0m     \u001b[0msentiment_writer\u001b[0m\u001b[1;33m.\u001b[0m\u001b[0mwriterow\u001b[0m\u001b[1;33m(\u001b[0m\u001b[1;33m[\u001b[0m\u001b[1;34m\"Valence\"\u001b[0m\u001b[1;33m,\u001b[0m \u001b[1;34m\"Arousal\"\u001b[0m\u001b[1;33m]\u001b[0m\u001b[1;33m)\u001b[0m\u001b[1;33m\u001b[0m\u001b[0m\n\u001b[0;32m      6\u001b[0m \u001b[1;33m\u001b[0m\u001b[0m\n\u001b[1;32m----> 7\u001b[1;33m     \u001b[0mprint\u001b[0m\u001b[1;33m(\u001b[0m\u001b[0martists\u001b[0m\u001b[1;33m[\u001b[0m\u001b[1;36m1\u001b[0m\u001b[1;33m]\u001b[0m\u001b[1;33m.\u001b[0m\u001b[0msongs\u001b[0m\u001b[1;33m[\u001b[0m\u001b[1;36m0\u001b[0m\u001b[1;33m]\u001b[0m\u001b[1;33m)\u001b[0m\u001b[1;33m\u001b[0m\u001b[0m\n\u001b[0m\u001b[0;32m      8\u001b[0m     \u001b[1;31m#temp = artists[0].songs\u001b[0m\u001b[1;33m\u001b[0m\u001b[1;33m\u001b[0m\u001b[0m\n\u001b[0;32m      9\u001b[0m    \u001b[1;31m# for i in range(len(temp)):\u001b[0m\u001b[1;33m\u001b[0m\u001b[1;33m\u001b[0m\u001b[0m\n",
      "\u001b[1;31mIndexError\u001b[0m: list index out of range"
     ]
    }
   ],
   "source": [
    "import csv\n",
    "#print(content)\n",
    "with open('sentiment.csv', 'w') as csvfile:\n",
    "    sentiment_writer = csv.writer(csvfile, delimiter=',', quotechar='\"', quoting=csv.QUOTE_MINIMAL)\n",
    "    sentiment_writer.writerow([\"Valence\", \"Arousal\"])\n",
    "    \n",
    "    print(artists[1].songs[0])\n",
    "    #temp = artists[0].songs\n",
    "   # for i in range(len(temp)):\n",
    "     #   print(temp[i].name)\n",
    "    "
   ]
  },
  {
   "cell_type": "code",
   "execution_count": null,
   "metadata": {
    "collapsed": true
   },
   "outputs": [],
   "source": [
    "#cleaning the lyrics\n",
    "for i in range(len(list_of_musicians)):\n",
    "    temp = os.listdir(r'C:\\Users\\Cedezmarie\\Desktop\\Thesis\\Song-Lyrics\\\\' + list_of_musicians[i])\n",
    "    if temp:\n",
    "        #if folder has lyrics begin preprocessing songs\n",
    "        if \n",
    "    else:"
   ]
  },
  {
   "cell_type": "code",
   "execution_count": null,
   "metadata": {
    "collapsed": true
   },
   "outputs": [],
   "source": [
    "import numpy as np\n",
    "import pandas as pd\n",
    "import matplotlib.pyplot as plt\n",
    "\n",
    "lyrics = pd.read_csv('sentiment.csv')\n",
    "X_lyrics = lyrics[['Valence','Arousal']].as_matrix()"
   ]
  },
  {
   "cell_type": "code",
   "execution_count": null,
   "metadata": {
    "collapsed": true
   },
   "outputs": [],
   "source": [
    "from sklearn.datasets import make_blobs\n",
    "from sklearn.cluster import KMeans\n",
    "\n",
    "kmeans = KMeans(n_clusters=4)\n",
    "kmeans.fit(X_lyrics)\n",
    "centroids = kmeans.cluster_centers_\n",
    "labels = kmeans.labels_\n",
    "colors = [\"g.\",\"r.\",\"c.\",\"y.\"]\n",
    "plt.figure(figsize=(15,15))\n",
    "plt.axvline(x=5)\n",
    "plt.axhline(y=5)\n",
    "for i in range(len(X_lyrics)):\n",
    "    plt.plot(X_lyrics[i][0], X_lyrics[i][1],colors[int(labels[i])], markersize =10)\n",
    "\n",
    "plt.xlabel(\"Valence\")\n",
    "plt.ylabel(\"Arousal\")\n",
    "#plt.grid(linestyle='-', linewidth=1)\n",
    "plt.scatter(centroids[:, 0],centroids[:, 1], marker = \"x\", s=150, linewidths = 5, zorder = 10)\n",
    "plt.show()"
   ]
  }
 ],
 "metadata": {
  "kernelspec": {
   "display_name": "Python 3",
   "language": "python",
   "name": "python3"
  },
  "language_info": {
   "codemirror_mode": {
    "name": "ipython",
    "version": 3
   },
   "file_extension": ".py",
   "mimetype": "text/x-python",
   "name": "python",
   "nbconvert_exporter": "python",
   "pygments_lexer": "ipython3",
   "version": "3.6.2"
  }
 },
 "nbformat": 4,
 "nbformat_minor": 2
}
