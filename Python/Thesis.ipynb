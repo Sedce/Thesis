{
 "cells": [
  {
   "cell_type": "code",
   "execution_count": 17,
   "metadata": {
    "collapsed": true
   },
   "outputs": [],
   "source": [
    "#Artist object\n",
    "class Artist(object):\n",
    "    \"\"\"__init__() functions as the class constructor\"\"\"\n",
    "    def __init__(self, name=None):\n",
    "        \n",
    "        self.name = name\n",
    "        self.songs = []\n",
    "        \n",
    "    def addSong(self, song):\n",
    "        self.songs.append(song)\n",
    "    def __repr__(self):\n",
    "        return str(self)"
   ]
  },
  {
   "cell_type": "code",
   "execution_count": 18,
   "metadata": {
    "collapsed": true
   },
   "outputs": [],
   "source": [
    "#Song Object\n",
    "import re\n",
    "class Song(object):\n",
    "    \n",
    "        def __init__(self, name=None, lyrics = None):\n",
    "            self.name = name\n",
    "            self.lyrics = \"\"\n",
    "            \n",
    "        def addLyrics(self, lyrics):\n",
    "             #clean the lyrics\n",
    "            if lyrics:\n",
    "                regex = re.compile('[>*]')\n",
    "                #First parameter is the replacement, second parameter is your input string\n",
    "                lyrics = regex.sub('', str(lyrics))\n",
    "            #    print(lyrics)\n",
    "                self.lyrics = lyrics\n",
    "            return lyrics\n",
    "        def __repr__(self):\n",
    "            return str(self)"
   ]
  },
  {
   "cell_type": "code",
   "execution_count": 19,
   "metadata": {
    "collapsed": true
   },
   "outputs": [],
   "source": [
    "#make table of all musicians and lyrics first\n",
    "import anew\n",
    "import os\n",
    "import itertools\n",
    "\n",
    "#get list of names of musicians\n",
    "artist_names  = os.listdir(r'C:\\Users\\Cedezmarie\\Desktop\\Thesis\\Song-Lyrics')\n",
    "artists = []\n",
    "count = 0\n",
    "for i in range(len(artist_names)):\n",
    "    artists.append(Artist(artist_names[i]))"
   ]
  },
  {
   "cell_type": "code",
   "execution_count": 20,
   "metadata": {},
   "outputs": [
    {
     "name": "stdout",
     "output_type": "stream",
     "text": [
      "118\n",
      "['Music is the Healing force of the Universe.txt']\n",
      "['Isla de Palma.txt']\n",
      "['The Lonesome Road.txt']\n",
      "[\"Rockin' Away.txt\"]\n",
      "['47 Elements.txt', 'Apex Steez.txt', 'Capital STEEZ.txt', 'Chicago.txt', 'Dead on Arrival.txt', 'Dead Prez.txt', 'Doggybag.txt', 'Evol Love.txt', 'Free the Robots.txt', 'Infinity and Beyond.txt', 'Vibe Ratings.txt']\n",
      "['Black Heart.txt', 'Cry cry.txt', 'Halfway Right.txt', 'Heavy.txt', 'Out of time.txt', 'Same On The Inside.txt', 'Tomorrow.txt']\n",
      "['Before We Disappear.txt', 'Bend In The Road.txt', 'Circling.txt', 'Dead Wishes.txt', 'Higher Truth.txt', 'Josephine.txt', 'Let Your Eyes Wander.txt', 'Misery Chain.txt', 'Murder Of Blue Skies.txt', 'Nearly Forgot My Broken Heart.txt', 'Only These Words.txt', 'Our Time In The Universe.txt', 'Through The Window.txt', 'Worried Moon.txt', 'Wrong Side.txt']\n",
      "['American Leather.txt', 'Caught In My Eye.txt', 'Communist Eyes.txt', 'Dragon Lady.txt', 'Land of Treason.txt', \"Let's Pretend.txt\", 'Lexicon Devil.txt', 'Manimal.txt', 'Media Blitz.txt', 'Our Way.txt', \"Richie Dagger's Crime.txt\", 'Shut Down.txt', 'Strange Notes.txt', 'The Slave.txt', 'We Must Bleed.txt', 'What We Do Is Secret.txt']\n",
      "['(Are You) Happy.txt', 'Anytown.txt', 'Degenerated.txt', 'Go Nowhere.txt', 'In Dog We Trust.txt', 'New Aryans.txt', 'No Class.txt', 'Reagan Youth.txt', 'USA.txt']\n",
      "['Runaway.txt']\n",
      "['Come Little Children.txt', 'Flying Easy.txt', \"I Know It's You.txt\", \"I Love You More Than You'll Ever Know.txt\", 'Lord Help Me.txt', 'Love love love.txt', 'Magdalena.txt', \"Someday We'll All Be Free.txt\"]\n",
      "['Hey, Jealousy.txt']\n",
      "['Drowning in Your Eyes.txt', 'Mortal Seed.txt', 'Sad Song.txt']\n",
      "['Dance On.txt', 'My Way.txt', 'So Long.txt', 'When I Get Home.txt']\n",
      "['Breeding.txt', 'Everfree.txt', 'Hurry go round.txt', 'Leather Face.txt', 'Pink Cloud Assembly.txt', 'Pink Spider.txt', 'Rocket Dive.txt']\n",
      "['A Means to an End.txt', 'Atrocity Exhibition.txt', 'Colony.txt', 'Decades.txt', 'Heart and Soul.txt', 'Isolation.txt', 'Love Will Tear Us Apart.txt', 'Passover.txt', 'The Eternal.txt', 'Twenty Four Hours.txt']\n",
      "['A Very Good Thing.txt', 'Kim the Waitress.txt', \"She's Goin' Thru My Head.txt\"]\n",
      "['Better Off.txt', 'Get Away From Me.txt', \"I'm a Better Man.txt\", \"Love's the Way.txt\", 'Something She Can Feel.txt', 'Why You Want Me Now.txt']\n",
      "['Tarkus.txt', 'The Endless Enigma Part Two.txt', 'The Endless Enigma Pt. 1.txt']\n",
      "['1000.txt', 'Blinking Game.txt', 'Elevator.txt', 'Fireplace.txt', 'Just Chill.txt', 'Let me out.txt', 'Lonely.txt', 'Our Season.txt', 'Where are you.txt']\n",
      "['stand up.txt', 'THE PLACE WHERE THE WIND BLOWS.txt']\n"
     ]
    },
    {
     "ename": "IndexError",
     "evalue": "list index out of range",
     "output_type": "error",
     "traceback": [
      "\u001b[1;31m---------------------------------------------------------------------------\u001b[0m",
      "\u001b[1;31mIndexError\u001b[0m                                Traceback (most recent call last)",
      "\u001b[1;32m<ipython-input-20-208b80a03f94>\u001b[0m in \u001b[0;36m<module>\u001b[1;34m()\u001b[0m\n\u001b[0;32m     10\u001b[0m                 \u001b[1;32mwith\u001b[0m \u001b[0mopen\u001b[0m\u001b[1;33m(\u001b[0m\u001b[0mstr\u001b[0m\u001b[1;33m(\u001b[0m\u001b[1;34m\"C:/Users/Cedezmarie/Desktop/Thesis/Song-Lyrics/\"\u001b[0m\u001b[1;33m+\u001b[0m \u001b[0martist_names\u001b[0m\u001b[1;33m[\u001b[0m\u001b[0mi\u001b[0m\u001b[1;33m]\u001b[0m\u001b[1;33m)\u001b[0m \u001b[1;33m+\u001b[0m \u001b[1;34m'/'\u001b[0m \u001b[1;33m+\u001b[0m \u001b[0mtemp\u001b[0m\u001b[1;33m[\u001b[0m\u001b[0mj\u001b[0m\u001b[1;33m]\u001b[0m\u001b[1;33m,\u001b[0m \u001b[1;34m'r'\u001b[0m\u001b[1;33m)\u001b[0m \u001b[1;32mas\u001b[0m \u001b[0mf\u001b[0m\u001b[1;33m:\u001b[0m\u001b[1;33m\u001b[0m\u001b[0m\n\u001b[0;32m     11\u001b[0m                        \u001b[0msong\u001b[0m \u001b[1;33m=\u001b[0m \u001b[0msong\u001b[0m\u001b[1;33m.\u001b[0m\u001b[0maddLyrics\u001b[0m\u001b[1;33m(\u001b[0m\u001b[0mf\u001b[0m\u001b[1;33m.\u001b[0m\u001b[0mreadlines\u001b[0m\u001b[1;33m(\u001b[0m\u001b[1;33m)\u001b[0m\u001b[1;33m)\u001b[0m\u001b[1;33m\u001b[0m\u001b[0m\n\u001b[1;32m---> 12\u001b[1;33m                 \u001b[0martists\u001b[0m\u001b[1;33m[\u001b[0m\u001b[0mcount\u001b[0m\u001b[1;33m]\u001b[0m\u001b[1;33m.\u001b[0m\u001b[0maddSong\u001b[0m\u001b[1;33m(\u001b[0m\u001b[0msong\u001b[0m\u001b[1;33m)\u001b[0m\u001b[1;33m\u001b[0m\u001b[0m\n\u001b[0m\u001b[0;32m     13\u001b[0m                 \u001b[0mcount\u001b[0m \u001b[1;33m+=\u001b[0m \u001b[1;36m1\u001b[0m\u001b[1;33m\u001b[0m\u001b[0m\n\u001b[0;32m     14\u001b[0m                 \u001b[1;31m#print(count)\u001b[0m\u001b[1;33m\u001b[0m\u001b[1;33m\u001b[0m\u001b[0m\n",
      "\u001b[1;31mIndexError\u001b[0m: list index out of range"
     ]
    }
   ],
   "source": [
    "#store all the lyrics inside a certain musician\n",
    "count = 0\n",
    "print(len(artists))\n",
    "for i in range(len(artist_names)):\n",
    "    temp =  os.listdir('C:/Users/Cedezmarie/Desktop/Thesis/Song-Lyrics/' + artist_names[i])\n",
    "    if temp:\n",
    "        print(temp)\n",
    "        for j in range(len(temp)):\n",
    "                song = Song(temp[j].replace('.txt', ''))\n",
    "                with open(str(\"C:/Users/Cedezmarie/Desktop/Thesis/Song-Lyrics/\"+ artist_names[i]) + '/' + temp[j], 'r') as f:\n",
    "                       song = song.addLyrics(f.readlines())\n",
    "                artists[count].addSong(song)\n",
    "                count += 1\n",
    "                #print(count)\n",
    "           # print(song)\n",
    "\n"
   ]
  },
  {
   "cell_type": "code",
   "execution_count": null,
   "metadata": {
    "collapsed": true
   },
   "outputs": [],
   "source": []
  },
  {
   "cell_type": "code",
   "execution_count": 5,
   "metadata": {
    "collapsed": true
   },
   "outputs": [],
   "source": [
    "#preprocessing the lyrics\n",
    "#deleting unnecessary stuff and segmenting the lyrics to the chorus, intro, verse etc\n"
   ]
  },
  {
   "cell_type": "code",
   "execution_count": 6,
   "metadata": {},
   "outputs": [
    {
     "ename": "IndexError",
     "evalue": "list index out of range",
     "output_type": "error",
     "traceback": [
      "\u001b[1;31m---------------------------------------------------------------------------\u001b[0m",
      "\u001b[1;31mIndexError\u001b[0m                                Traceback (most recent call last)",
      "\u001b[1;32m<ipython-input-6-790400d5049d>\u001b[0m in \u001b[0;36m<module>\u001b[1;34m()\u001b[0m\n\u001b[0;32m      5\u001b[0m     \u001b[0msentiment_writer\u001b[0m\u001b[1;33m.\u001b[0m\u001b[0mwriterow\u001b[0m\u001b[1;33m(\u001b[0m\u001b[1;33m[\u001b[0m\u001b[1;34m\"Valence\"\u001b[0m\u001b[1;33m,\u001b[0m \u001b[1;34m\"Arousal\"\u001b[0m\u001b[1;33m]\u001b[0m\u001b[1;33m)\u001b[0m\u001b[1;33m\u001b[0m\u001b[0m\n\u001b[0;32m      6\u001b[0m \u001b[1;33m\u001b[0m\u001b[0m\n\u001b[1;32m----> 7\u001b[1;33m     \u001b[0mprint\u001b[0m\u001b[1;33m(\u001b[0m\u001b[0martists\u001b[0m\u001b[1;33m[\u001b[0m\u001b[1;36m1\u001b[0m\u001b[1;33m]\u001b[0m\u001b[1;33m.\u001b[0m\u001b[0msongs\u001b[0m\u001b[1;33m[\u001b[0m\u001b[1;36m0\u001b[0m\u001b[1;33m]\u001b[0m\u001b[1;33m)\u001b[0m\u001b[1;33m\u001b[0m\u001b[0m\n\u001b[0m\u001b[0;32m      8\u001b[0m     \u001b[1;31m#temp = artists[0].songs\u001b[0m\u001b[1;33m\u001b[0m\u001b[1;33m\u001b[0m\u001b[0m\n\u001b[0;32m      9\u001b[0m    \u001b[1;31m# for i in range(len(temp)):\u001b[0m\u001b[1;33m\u001b[0m\u001b[1;33m\u001b[0m\u001b[0m\n",
      "\u001b[1;31mIndexError\u001b[0m: list index out of range"
     ]
    }
   ],
   "source": [
    "import csv\n",
    "#print(content)\n",
    "with open('sentiment.csv', 'w') as csvfile:\n",
    "    sentiment_writer = csv.writer(csvfile, delimiter=',', quotechar='\"', quoting=csv.QUOTE_MINIMAL)\n",
    "    sentiment_writer.writerow([\"Valence\", \"Arousal\"])\n",
    "    \n",
    "    print(artists[1].songs[0])\n",
    "    #temp = artists[0].songs\n",
    "   # for i in range(len(temp)):\n",
    "     #   print(temp[i].name)\n",
    "    "
   ]
  },
  {
   "cell_type": "code",
   "execution_count": null,
   "metadata": {
    "collapsed": true
   },
   "outputs": [],
   "source": [
    "#cleaning the lyrics\n",
    "for i in range(len(list_of_musicians)):\n",
    "    temp = os.listdir(r'C:\\Users\\Cedezmarie\\Desktop\\Thesis\\Song-Lyrics\\\\' + list_of_musicians[i])\n",
    "    if temp:\n",
    "        #if folder has lyrics begin preprocessing songs\n",
    "        if \n",
    "    else:"
   ]
  },
  {
   "cell_type": "code",
   "execution_count": null,
   "metadata": {
    "collapsed": true
   },
   "outputs": [],
   "source": [
    "import numpy as np\n",
    "import pandas as pd\n",
    "import matplotlib.pyplot as plt\n",
    "\n",
    "lyrics = pd.read_csv('sentiment.csv')\n",
    "X_lyrics = lyrics[['Valence','Arousal']].as_matrix()"
   ]
  },
  {
   "cell_type": "code",
   "execution_count": null,
   "metadata": {
    "collapsed": true
   },
   "outputs": [],
   "source": [
    "from sklearn.datasets import make_blobs\n",
    "from sklearn.cluster import KMeans\n",
    "\n",
    "kmeans = KMeans(n_clusters=4)\n",
    "kmeans.fit(X_lyrics)\n",
    "centroids = kmeans.cluster_centers_\n",
    "labels = kmeans.labels_\n",
    "colors = [\"g.\",\"r.\",\"c.\",\"y.\"]\n",
    "plt.figure(figsize=(15,15))\n",
    "plt.axvline(x=5)\n",
    "plt.axhline(y=5)\n",
    "for i in range(len(X_lyrics)):\n",
    "    plt.plot(X_lyrics[i][0], X_lyrics[i][1],colors[int(labels[i])], markersize =10)\n",
    "\n",
    "plt.xlabel(\"Valence\")\n",
    "plt.ylabel(\"Arousal\")\n",
    "#plt.grid(linestyle='-', linewidth=1)\n",
    "plt.scatter(centroids[:, 0],centroids[:, 1], marker = \"x\", s=150, linewidths = 5, zorder = 10)\n",
    "plt.show()"
   ]
  }
 ],
 "metadata": {
  "kernelspec": {
   "display_name": "Python 3",
   "language": "python",
   "name": "python3"
  },
  "language_info": {
   "codemirror_mode": {
    "name": "ipython",
    "version": 3
   },
   "file_extension": ".py",
   "mimetype": "text/x-python",
   "name": "python",
   "nbconvert_exporter": "python",
   "pygments_lexer": "ipython3",
   "version": "3.6.2"
  }
 },
 "nbformat": 4,
 "nbformat_minor": 2
}
